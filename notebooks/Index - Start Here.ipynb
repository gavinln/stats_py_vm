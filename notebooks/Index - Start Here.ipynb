{
 "cells": [
  {
   "cell_type": "markdown",
   "metadata": {},
   "source": [
    "# List of IPython (Jupyter) notebooks"
   ]
  },
  {
   "cell_type": "markdown",
   "metadata": {},
   "source": [
    "* [IPython input-output caching](Input-Output_caching.ipynb) - Accessing previous notebook cells\n",
    "* [Managing Python files](Managing_Python_files.ipynb) - Creating python files from cells\n",
    "* [Widgets](Widgets.ipynb) - Demonstrates the use of widgets in IPython notebooks\n",
    "* [Debugging](Debugging.ipynb) - Debugging in the IPython notebook"
   ]
  },
  {
   "cell_type": "markdown",
   "metadata": {
    "collapsed": true
   },
   "source": [
    "## Plotting"
   ]
  },
  {
   "cell_type": "markdown",
   "metadata": {},
   "source": [
    "* [Bokeh charts](plotting/Bokeh charts.ipynb)\n",
    "    * [Scatter plot](plotting/Bokeh charts.ipynb#Scatter-plot)\n",
    "    * [Box plot](plotting/Bokeh charts.ipynb#Box-plot)\n",
    "    * [Bar plots](plotting/Bokeh charts.ipynb#Bar-plots) - grouped and stacked\n",
    "    * [Line plot](plotting/Bokeh charts.ipynb#Line-plot)    \n",
    "    * [Area plot](plotting/Bokeh charts.ipynb#Area-plot)\n",
    "    * Step plot - TODO\n",
    "    * Time series plot - TODO, see http://bokeh.pydata.org/en/latest/docs/reference/charts.html#bokeh-charts   "
   ]
  },
  {
   "cell_type": "code",
   "execution_count": null,
   "metadata": {
    "collapsed": true
   },
   "outputs": [],
   "source": []
  }
 ],
 "metadata": {
  "kernelspec": {
   "display_name": "Python 2",
   "language": "python",
   "name": "python2"
  },
  "language_info": {
   "codemirror_mode": {
    "name": "ipython",
    "version": 2
   },
   "file_extension": ".py",
   "mimetype": "text/x-python",
   "name": "python",
   "nbconvert_exporter": "python",
   "pygments_lexer": "ipython2",
   "version": "2.7.6"
  }
 },
 "nbformat": 4,
 "nbformat_minor": 0
}
