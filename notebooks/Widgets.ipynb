{
 "cells": [
  {
   "cell_type": "markdown",
   "metadata": {},
   "source": [
    "# Import libraries\n",
    "\n",
    "From the tutorial on http://www.youtube.com/watch?v=wxVx54ax47s"
   ]
  },
  {
   "cell_type": "code",
   "execution_count": 1,
   "metadata": {
    "collapsed": false
   },
   "outputs": [
    {
     "name": "stdout",
     "output_type": "stream",
     "text": [
      "Populating the interactive namespace from numpy and matplotlib\n"
     ]
    },
    {
     "name": "stderr",
     "output_type": "stream",
     "text": [
      ":0: FutureWarning: IPython widgets are experimental and may change in the future.\n"
     ]
    }
   ],
   "source": [
    "import numpy as np\n",
    "import matplotlib.pyplot as plt\n",
    "\n",
    "from IPython.html.widgets import interact\n",
    "from IPython.html import widgets\n",
    "from IPython.display import display\n",
    "\n",
    "%pylab inline"
   ]
  },
  {
   "cell_type": "markdown",
   "metadata": {},
   "source": [
    "# Built-in widgets"
   ]
  },
  {
   "cell_type": "code",
   "execution_count": 11,
   "metadata": {
    "collapsed": false
   },
   "outputs": [],
   "source": [
    "tab1_children = [widgets.Button(description=\"Button\"),\n",
    "    widgets.Checkbox(description=\"Checkbox\"),\n",
    "    widgets.Dropdown(values=[1, 2], description=\"Dropdown\"),\n",
    "    widgets.RadioButtons(values=[1, 2], description=\"RadioButtons\"),\n",
    "    widgets.Select(values=[1, 2], description=\"Select\"),\n",
    "    widgets.Text(description=\"Text\"),\n",
    "    widgets.Textarea(description=\"Textarea\"),\n",
    "    widgets.ToggleButton(description=\"ToggleButton\"),\n",
    "    widgets.ToggleButtons(values=[\"Value 1\", \"Value 2\"], description=\"ToggleButtons\")\n",
    "]\n",
    "\n",
    "tab2_children = [widgets.BoundedFloatText(description=\"BoundedFloatText\"),\n",
    "    widgets.BoundedIntText(description=\"BoundedIntText\"),\n",
    "    widgets.FloatSlider(description=\"FloatSlider\"),\n",
    "    widgets.FloatText(description=\"FloatText\"),\n",
    "    widgets.IntSlider(description=\"IntSlider\"),\n",
    "    widgets.IntText(description=\"IntText\")\n",
    "]\n",
    "\n",
    "tab3_children = [widgets.Latex(value=\"$f(x) = x^25\", description=\"Latex\"),\n",
    "    widgets.HTML(value=\"<strong>HTML Code</strong>\", description=\"HTML\")\n",
    "]\n",
    "\n",
    "tab1 = widgets.Box(children=tab1_children)\n",
    "tab2 = widgets.Box(children=tab2_children)\n",
    "tab3 = widgets.Box(children=tab3_children)"
   ]
  },
  {
   "cell_type": "code",
   "execution_count": 12,
   "metadata": {
    "collapsed": false
   },
   "outputs": [],
   "source": [
    "i = widgets.Accordion(children=[tab1, tab2, tab3])\n",
    "i.set_title(0, \"Basic Widgets\")\n",
    "i.set_title(1, \"Numbers Input\")\n",
    "i.set_title(2, \"Output\")\n",
    "display(i)"
   ]
  },
  {
   "cell_type": "markdown",
   "metadata": {},
   "source": [
    "# Controlling a Chart"
   ]
  },
  {
   "cell_type": "markdown",
   "metadata": {},
   "source": [
    "Create a function that plots (x, y) and adds a title"
   ]
  },
  {
   "cell_type": "code",
   "execution_count": 4,
   "metadata": {
    "collapsed": false
   },
   "outputs": [],
   "source": [
    "# plot x, y and add a title\n",
    "def plt_arrays(x, y, title=\"\", color=\"red\", linestyle=\"dashed\", linewidth=2):\n",
    "    fig = plt.figure()\n",
    "    axes = fig.add_subplot(111)\n",
    "    axes.plot(x, y, color=color, linestyle=linestyle, linewidth=linewidth)\n",
    "    axes.set_title(title)\n",
    "    axes.grid()\n",
    "    plt.show()"
   ]
  },
  {
   "cell_type": "markdown",
   "metadata": {},
   "source": [
    "Define a function that returns the following:\n",
    "\n",
    "$f(x) = ax^3 + bx^2 + cx + d$\n",
    "\n",
    "where $a, b, c, d$ are constants."
   ]
  },
  {
   "cell_type": "code",
   "execution_count": 5,
   "metadata": {
    "collapsed": false
   },
   "outputs": [],
   "source": [
    "def f(a, b, c, d, **kwargs):\n",
    "    x = np.linspace(-10, 10, 20)\n",
    "    y = a * x**3 + b * x**2 + c* x + d\n",
    "    \n",
    "    title = \"$f(x) = (%s)x^3 + (%s)x^2 + (%s)x + (%s)$\" % (a, b, c, d)\n",
    "    \n",
    "    plt_arrays(x, y, **kwargs)"
   ]
  },
  {
   "cell_type": "code",
   "execution_count": 7,
   "metadata": {
    "collapsed": false
   },
   "outputs": [
    {
     "data": {
      "image/png": "[encoded data removed]",
      "text/plain": [
       "<matplotlib.figure.Figure at 0x7f94334c0f50>"
      ]
     },
     "metadata": {},
     "output_type": "display_data"
    }
   ],
   "source": [
    "a = 0.25\n",
    "b = 2\n",
    "c = -4\n",
    "d = 0\n",
    "\n",
    "i = interact(f,\n",
    "             a = (-10., 10),\n",
    "             b = (-10., 10),\n",
    "             c = (-10., 10),\n",
    "             d = (-10., 10),\n",
    "             color = [\"red\", \"blue\", \"green\"],\n",
    "             linestyle = [\"solid\", \"dashed\"],\n",
    "             linewidth = [1, 5]\n",
    ")"
   ]
  },
  {
   "cell_type": "markdown",
   "metadata": {},
   "source": [
    "# TabWidget"
   ]
  },
  {
   "cell_type": "code",
   "execution_count": 8,
   "metadata": {
    "collapsed": false
   },
   "outputs": [],
   "source": [
    "tabs = widgets.Tab()\n",
    "tabs.children = [tab1, tab2]\n",
    "tabs"
   ]
  },
  {
   "cell_type": "code",
   "execution_count": null,
   "metadata": {
    "collapsed": false
   },
   "outputs": [],
   "source": []
  }
 ],
 "metadata": {
  "kernelspec": {
   "display_name": "Python 2",
   "language": "python",
   "name": "python2"
  },
  "language_info": {
   "codemirror_mode": {
    "name": "ipython",
    "version": 2
   },
   "file_extension": ".py",
   "mimetype": "text/x-python",
   "name": "python",
   "nbconvert_exporter": "python",
   "pygments_lexer": "ipython2",
   "version": "2.7.6"
  }
 },
 "nbformat": 4,
 "nbformat_minor": 0
}
