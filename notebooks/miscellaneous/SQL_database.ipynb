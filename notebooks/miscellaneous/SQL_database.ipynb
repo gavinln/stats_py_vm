{
 "metadata": {
  "name": "",
  "signature": "sha256:1ccbeaf747c0635cdadd0ff45c35d1d22f6604dd14c1d8161cfa6bb9fcc1a46d"
 },
 "nbformat": 3,
 "nbformat_minor": 0,
 "worksheets": [
  {
   "cells": [
    {
     "cell_type": "markdown",
     "metadata": {
      "slideshow": {
       "slide_type": "slide"
      }
     },
     "source": [
      "# Using a SQL database"
     ]
    },
    {
     "cell_type": "markdown",
     "metadata": {},
     "source": [
      "## Setting up a connection"
     ]
    },
    {
     "cell_type": "code",
     "collapsed": false,
     "input": [
      "# first load the extension\n",
      "%load_ext sql"
     ],
     "language": "python",
     "metadata": {},
     "outputs": [],
     "prompt_number": 1
    },
    {
     "cell_type": "code",
     "collapsed": false,
     "input": [
      "# dbConnect = \"sqlite:///c:\\\\ws\\\\stats_py_vm\\\\db\\\\sqlite_cm.db\"  # windows\n",
      "# Use four slashes for absolute path to the filename on Linux\n",
      "dbConnect = \"sqlite:////vagrant/db/sqlite_cm.db\"  # linux vm"
     ],
     "language": "python",
     "metadata": {},
     "outputs": [],
     "prompt_number": 2
    },
    {
     "cell_type": "markdown",
     "metadata": {
      "slideshow": {
       "slide_type": "slide"
      }
     },
     "source": [
      "## Retrieving data"
     ]
    },
    {
     "cell_type": "markdown",
     "metadata": {},
     "source": [
      "Display in graphical format"
     ]
    },
    {
     "cell_type": "code",
     "collapsed": false,
     "input": [
      "%%sql $dbConnect\n",
      "select * from office"
     ],
     "language": "python",
     "metadata": {},
     "outputs": [
      {
       "output_type": "stream",
       "stream": "stdout",
       "text": [
        "Done.\n"
       ]
      },
      {
       "html": [
        "<table>\n",
        "    <tr>\n",
        "        <th>id</th>\n",
        "        <th>officecode</th>\n",
        "        <th>city</th>\n",
        "        <th>phone</th>\n",
        "        <th>addressline1</th>\n",
        "        <th>addressline2</th>\n",
        "        <th>state</th>\n",
        "        <th>country</th>\n",
        "        <th>postalcode</th>\n",
        "        <th>territory</th>\n",
        "    </tr>\n",
        "    <tr>\n",
        "        <td>1</td>\n",
        "        <td>1</td>\n",
        "        <td>San Francisco</td>\n",
        "        <td>+1 650 219 4782</td>\n",
        "        <td>100 Market Street</td>\n",
        "        <td>Suite 300</td>\n",
        "        <td>CA</td>\n",
        "        <td>USA</td>\n",
        "        <td>94080</td>\n",
        "        <td>NA</td>\n",
        "    </tr>\n",
        "    <tr>\n",
        "        <td>2</td>\n",
        "        <td>2</td>\n",
        "        <td>Boston</td>\n",
        "        <td>+1 215 837 0825</td>\n",
        "        <td>1550 Court Place</td>\n",
        "        <td>Suite 102</td>\n",
        "        <td>MA</td>\n",
        "        <td>USA</td>\n",
        "        <td>02107</td>\n",
        "        <td>NA</td>\n",
        "    </tr>\n",
        "    <tr>\n",
        "        <td>3</td>\n",
        "        <td>3</td>\n",
        "        <td>NYC</td>\n",
        "        <td>+1 212 555 3000</td>\n",
        "        <td>523 East 53rd Street</td>\n",
        "        <td>apt. 5A</td>\n",
        "        <td>NY</td>\n",
        "        <td>USA</td>\n",
        "        <td>10022</td>\n",
        "        <td>NA</td>\n",
        "    </tr>\n",
        "    <tr>\n",
        "        <td>4</td>\n",
        "        <td>4</td>\n",
        "        <td>Paris</td>\n",
        "        <td>+33 14 723 4404</td>\n",
        "        <td>43 Rue Jouffroy D'abbans</td>\n",
        "        <td>None</td>\n",
        "        <td></td>\n",
        "        <td>France</td>\n",
        "        <td>75017</td>\n",
        "        <td>EMEA</td>\n",
        "    </tr>\n",
        "    <tr>\n",
        "        <td>5</td>\n",
        "        <td>5</td>\n",
        "        <td>Tokyo</td>\n",
        "        <td>+81 33 224 5000</td>\n",
        "        <td>4-1 Kioicho</td>\n",
        "        <td>None</td>\n",
        "        <td>Chiyoda-Ku</td>\n",
        "        <td>Japan</td>\n",
        "        <td>102-8578</td>\n",
        "        <td>Japan</td>\n",
        "    </tr>\n",
        "    <tr>\n",
        "        <td>6</td>\n",
        "        <td>6</td>\n",
        "        <td>Sydney</td>\n",
        "        <td>+61 2 9264 2451</td>\n",
        "        <td>5-11 Wentworth Avenue</td>\n",
        "        <td>Floor #2</td>\n",
        "        <td>None</td>\n",
        "        <td>Australia</td>\n",
        "        <td>NSW 2010</td>\n",
        "        <td>APAC</td>\n",
        "    </tr>\n",
        "    <tr>\n",
        "        <td>7</td>\n",
        "        <td>7</td>\n",
        "        <td>London</td>\n",
        "        <td>+44 20 7877 2041</td>\n",
        "        <td>25 Old Broad Street</td>\n",
        "        <td>Level 7</td>\n",
        "        <td>None</td>\n",
        "        <td>UK</td>\n",
        "        <td>EC2N 1HN</td>\n",
        "        <td>EMEA</td>\n",
        "    </tr>\n",
        "</table>"
       ],
       "metadata": {},
       "output_type": "pyout",
       "prompt_number": 3,
       "text": [
        "[(1, u'1', u'San Francisco', u'+1 650 219 4782', u'100 Market Street', u'Suite 300', u'CA', u'USA', u'94080', u'NA'),\n",
        " (2, u'2', u'Boston', u'+1 215 837 0825', u'1550 Court Place', u'Suite 102', u'MA', u'USA', u'02107', u'NA'),\n",
        " (3, u'3', u'NYC', u'+1 212 555 3000', u'523 East 53rd Street', u'apt. 5A', u'NY', u'USA', u'10022', u'NA'),\n",
        " (4, u'4', u'Paris', u'+33 14 723 4404', u\"43 Rue Jouffroy D'abbans\", None, u'', u'France', u'75017', u'EMEA'),\n",
        " (5, u'5', u'Tokyo', u'+81 33 224 5000', u'4-1 Kioicho', None, u'Chiyoda-Ku', u'Japan', u'102-8578', u'Japan'),\n",
        " (6, u'6', u'Sydney', u'+61 2 9264 2451', u'5-11 Wentworth Avenue', u'Floor #2', None, u'Australia', u'NSW 2010', u'APAC'),\n",
        " (7, u'7', u'London', u'+44 20 7877 2041', u'25 Old Broad Street', u'Level 7', None, u'UK', u'EC2N 1HN', u'EMEA')]"
       ]
      }
     ],
     "prompt_number": 3
    },
    {
     "cell_type": "markdown",
     "metadata": {
      "slideshow": {
       "slide_type": "slide"
      }
     },
     "source": [
      "Display in a Python object"
     ]
    },
    {
     "cell_type": "code",
     "collapsed": false,
     "input": [
      "offices = %sql $dbConnect select * from office where city = 'Boston'"
     ],
     "language": "python",
     "metadata": {},
     "outputs": [
      {
       "output_type": "stream",
       "stream": "stdout",
       "text": [
        "Done.\n"
       ]
      }
     ],
     "prompt_number": 4
    },
    {
     "cell_type": "code",
     "collapsed": false,
     "input": [
      "offices[0]"
     ],
     "language": "python",
     "metadata": {},
     "outputs": [
      {
       "metadata": {},
       "output_type": "pyout",
       "prompt_number": 5,
       "text": [
        "(2, u'2', u'Boston', u'+1 215 837 0825', u'1550 Court Place', u'Suite 102', u'MA', u'USA', u'02107', u'NA')"
       ]
      }
     ],
     "prompt_number": 5
    },
    {
     "cell_type": "markdown",
     "metadata": {
      "slideshow": {
       "slide_type": "slide"
      }
     },
     "source": [
      "Display the column names"
     ]
    },
    {
     "cell_type": "code",
     "collapsed": false,
     "input": [
      "offices.keys"
     ],
     "language": "python",
     "metadata": {},
     "outputs": [
      {
       "metadata": {},
       "output_type": "pyout",
       "prompt_number": 6,
       "text": [
        "[u'id',\n",
        " u'officecode',\n",
        " u'city',\n",
        " u'phone',\n",
        " u'addressline1',\n",
        " u'addressline2',\n",
        " u'state',\n",
        " u'country',\n",
        " u'postalcode',\n",
        " u'territory']"
       ]
      }
     ],
     "prompt_number": 6
    },
    {
     "cell_type": "markdown",
     "metadata": {},
     "source": [
      "Access individual columns by 0 based index or name"
     ]
    },
    {
     "cell_type": "code",
     "collapsed": false,
     "input": [
      "offices[0][7], offices[0].country"
     ],
     "language": "python",
     "metadata": {},
     "outputs": [
      {
       "metadata": {},
       "output_type": "pyout",
       "prompt_number": 7,
       "text": [
        "(u'USA', u'USA')"
       ]
      }
     ],
     "prompt_number": 7
    },
    {
     "cell_type": "markdown",
     "metadata": {
      "slideshow": {
       "slide_type": "slide"
      }
     },
     "source": [
      "Use bind variables"
     ]
    },
    {
     "cell_type": "code",
     "collapsed": false,
     "input": [
      "name = 'Tokyo'\n",
      "%sql $dbConnect select * from office where city = :name"
     ],
     "language": "python",
     "metadata": {
      "slideshow": {
       "slide_type": "-"
      }
     },
     "outputs": [
      {
       "output_type": "stream",
       "stream": "stdout",
       "text": [
        "Done.\n"
       ]
      },
      {
       "html": [
        "<table>\n",
        "    <tr>\n",
        "        <th>id</th>\n",
        "        <th>officecode</th>\n",
        "        <th>city</th>\n",
        "        <th>phone</th>\n",
        "        <th>addressline1</th>\n",
        "        <th>addressline2</th>\n",
        "        <th>state</th>\n",
        "        <th>country</th>\n",
        "        <th>postalcode</th>\n",
        "        <th>territory</th>\n",
        "    </tr>\n",
        "    <tr>\n",
        "        <td>5</td>\n",
        "        <td>5</td>\n",
        "        <td>Tokyo</td>\n",
        "        <td>+81 33 224 5000</td>\n",
        "        <td>4-1 Kioicho</td>\n",
        "        <td>None</td>\n",
        "        <td>Chiyoda-Ku</td>\n",
        "        <td>Japan</td>\n",
        "        <td>102-8578</td>\n",
        "        <td>Japan</td>\n",
        "    </tr>\n",
        "</table>"
       ],
       "metadata": {},
       "output_type": "pyout",
       "prompt_number": 8,
       "text": [
        "[(5, u'5', u'Tokyo', u'+81 33 224 5000', u'4-1 Kioicho', None, u'Chiyoda-Ku', u'Japan', u'102-8578', u'Japan')]"
       ]
      }
     ],
     "prompt_number": 8
    },
    {
     "cell_type": "markdown",
     "metadata": {
      "slideshow": {
       "slide_type": "slide"
      }
     },
     "source": [
      "## Configuring the sql extension plugin"
     ]
    },
    {
     "cell_type": "markdown",
     "metadata": {},
     "source": [
      "Setup the maximum number of rows to be retrieved"
     ]
    },
    {
     "cell_type": "code",
     "collapsed": false,
     "input": [
      "%config SqlMagic.autolimit = 10"
     ],
     "language": "python",
     "metadata": {},
     "outputs": [],
     "prompt_number": 9
    },
    {
     "cell_type": "code",
     "collapsed": false,
     "input": [
      "%sql $dbConnect select * from customer"
     ],
     "language": "python",
     "metadata": {},
     "outputs": [
      {
       "output_type": "stream",
       "stream": "stdout",
       "text": [
        "Done.\n"
       ]
      },
      {
       "html": [
        "<table>\n",
        "    <tr>\n",
        "        <th>id</th>\n",
        "        <th>customernumber</th>\n",
        "        <th>customername</th>\n",
        "        <th>contactlastname</th>\n",
        "        <th>contactfirstname</th>\n",
        "        <th>phone</th>\n",
        "        <th>addressline1</th>\n",
        "        <th>addressline2</th>\n",
        "        <th>city</th>\n",
        "        <th>state</th>\n",
        "        <th>postalcode</th>\n",
        "        <th>country</th>\n",
        "        <th>salesrepemployeenumber</th>\n",
        "        <th>creditlimit</th>\n",
        "    </tr>\n",
        "    <tr>\n",
        "        <td>1</td>\n",
        "        <td>103</td>\n",
        "        <td>Atelier graphique</td>\n",
        "        <td>Schmitt</td>\n",
        "        <td>Carine</td>\n",
        "        <td>40.32.2555</td>\n",
        "        <td>54, rue Royale</td>\n",
        "        <td>None</td>\n",
        "        <td>Nantes</td>\n",
        "        <td>None</td>\n",
        "        <td>44000</td>\n",
        "        <td>France</td>\n",
        "        <td>14</td>\n",
        "        <td>21000.0</td>\n",
        "    </tr>\n",
        "    <tr>\n",
        "        <td>2</td>\n",
        "        <td>112</td>\n",
        "        <td>Signal Gift Stores</td>\n",
        "        <td>King</td>\n",
        "        <td>Sue</td>\n",
        "        <td>7025551838</td>\n",
        "        <td>8489 Strong St.</td>\n",
        "        <td>None</td>\n",
        "        <td>Las Vegas</td>\n",
        "        <td>NV</td>\n",
        "        <td>83030</td>\n",
        "        <td>USA</td>\n",
        "        <td>8</td>\n",
        "        <td>71800.0</td>\n",
        "    </tr>\n",
        "    <tr>\n",
        "        <td>3</td>\n",
        "        <td>114</td>\n",
        "        <td>Australian Collectors, Co.</td>\n",
        "        <td>Ferguson</td>\n",
        "        <td>Peter</td>\n",
        "        <td>03 9520 4555</td>\n",
        "        <td>636 St Kilda Road</td>\n",
        "        <td>Level 3</td>\n",
        "        <td>Melbourne</td>\n",
        "        <td>Victoria</td>\n",
        "        <td>3004</td>\n",
        "        <td>Australia</td>\n",
        "        <td>18</td>\n",
        "        <td>117300.0</td>\n",
        "    </tr>\n",
        "    <tr>\n",
        "        <td>4</td>\n",
        "        <td>119</td>\n",
        "        <td>La Rochelle Gifts</td>\n",
        "        <td>Labrune</td>\n",
        "        <td>Janine</td>\n",
        "        <td>40.67.8555</td>\n",
        "        <td>67, rue des Cinquante Otages</td>\n",
        "        <td>None</td>\n",
        "        <td>Nantes</td>\n",
        "        <td>None</td>\n",
        "        <td>44000</td>\n",
        "        <td>France</td>\n",
        "        <td>14</td>\n",
        "        <td>118200.0</td>\n",
        "    </tr>\n",
        "    <tr>\n",
        "        <td>5</td>\n",
        "        <td>121</td>\n",
        "        <td>Baane Mini Imports</td>\n",
        "        <td>Bergulfsen</td>\n",
        "        <td>Jonas</td>\n",
        "        <td>07-98 9555</td>\n",
        "        <td>Erling Skakkes gate 78</td>\n",
        "        <td>None</td>\n",
        "        <td>Stavern</td>\n",
        "        <td>None</td>\n",
        "        <td>4110</td>\n",
        "        <td>Norway</td>\n",
        "        <td>17</td>\n",
        "        <td>81700.0</td>\n",
        "    </tr>\n",
        "    <tr>\n",
        "        <td>6</td>\n",
        "        <td>124</td>\n",
        "        <td>Mini Gifts Distributors Ltd.</td>\n",
        "        <td>Nelson</td>\n",
        "        <td>Valarie</td>\n",
        "        <td>4155551450</td>\n",
        "        <td>5677 Strong St.</td>\n",
        "        <td>None</td>\n",
        "        <td>San Rafael</td>\n",
        "        <td>CA</td>\n",
        "        <td>97562</td>\n",
        "        <td>USA</td>\n",
        "        <td>7</td>\n",
        "        <td>210500.0</td>\n",
        "    </tr>\n",
        "    <tr>\n",
        "        <td>7</td>\n",
        "        <td>125</td>\n",
        "        <td>Havel &amp; Zbyszek Co</td>\n",
        "        <td>Piestrzeniewicz</td>\n",
        "        <td>Zbyszek</td>\n",
        "        <td>(26) 642-7555</td>\n",
        "        <td>ul. Filtrowa 68</td>\n",
        "        <td>None</td>\n",
        "        <td>Warszawa</td>\n",
        "        <td>None</td>\n",
        "        <td>01-012</td>\n",
        "        <td>Poland</td>\n",
        "        <td>None</td>\n",
        "        <td>0.0</td>\n",
        "    </tr>\n",
        "    <tr>\n",
        "        <td>8</td>\n",
        "        <td>128</td>\n",
        "        <td>Blauer See Auto, Co.</td>\n",
        "        <td>Keitel</td>\n",
        "        <td>Roland</td>\n",
        "        <td>+49 69 66 90 2555</td>\n",
        "        <td>Lyonerstr. 34</td>\n",
        "        <td>None</td>\n",
        "        <td>Frankfurt</td>\n",
        "        <td>None</td>\n",
        "        <td>60528</td>\n",
        "        <td>Germany</td>\n",
        "        <td>17</td>\n",
        "        <td>59700.0</td>\n",
        "    </tr>\n",
        "    <tr>\n",
        "        <td>9</td>\n",
        "        <td>129</td>\n",
        "        <td>Mini Wheels Co.</td>\n",
        "        <td>Murphy</td>\n",
        "        <td>Julie</td>\n",
        "        <td>6505555787</td>\n",
        "        <td>5557 North Pendale Street</td>\n",
        "        <td>None</td>\n",
        "        <td>San Francisco</td>\n",
        "        <td>CA</td>\n",
        "        <td>94217</td>\n",
        "        <td>USA</td>\n",
        "        <td>7</td>\n",
        "        <td>64600.0</td>\n",
        "    </tr>\n",
        "    <tr>\n",
        "        <td>10</td>\n",
        "        <td>131</td>\n",
        "        <td>Land of Toys Inc.</td>\n",
        "        <td>Yu</td>\n",
        "        <td>Kwai</td>\n",
        "        <td>2125557818</td>\n",
        "        <td>897 Long Airport Avenue</td>\n",
        "        <td>None</td>\n",
        "        <td>NYC</td>\n",
        "        <td>NY</td>\n",
        "        <td>10022</td>\n",
        "        <td>USA</td>\n",
        "        <td>12</td>\n",
        "        <td>114900.0</td>\n",
        "    </tr>\n",
        "</table>"
       ],
       "metadata": {},
       "output_type": "pyout",
       "prompt_number": 10,
       "text": [
        "[(1, 103, u'Atelier graphique', u'Schmitt', u'Carine', u'40.32.2555', u'54, rue Royale', None, u'Nantes', None, u'44000', u'France', 14, 21000.0),\n",
        " (2, 112, u'Signal Gift Stores', u'King', u'Sue', u'7025551838', u'8489 Strong St.', None, u'Las Vegas', u'NV', u'83030', u'USA', 8, 71800.0),\n",
        " (3, 114, u'Australian Collectors, Co.', u'Ferguson', u'Peter', u'03 9520 4555', u'636 St Kilda Road', u'Level 3', u'Melbourne', u'Victoria', u'3004', u'Australia', 18, 117300.0),\n",
        " (4, 119, u'La Rochelle Gifts', u'Labrune', u'Janine', u'40.67.8555', u'67, rue des Cinquante Otages', None, u'Nantes', None, u'44000', u'France', 14, 118200.0),\n",
        " (5, 121, u'Baane Mini Imports', u'Bergulfsen', u'Jonas', u'07-98 9555', u'Erling Skakkes gate 78', None, u'Stavern', None, u'4110', u'Norway', 17, 81700.0),\n",
        " (6, 124, u'Mini Gifts Distributors Ltd.', u'Nelson', u'Valarie', u'4155551450', u'5677 Strong St.', None, u'San Rafael', u'CA', u'97562', u'USA', 7, 210500.0),\n",
        " (7, 125, u'Havel & Zbyszek Co', u'Piestrzeniewicz', u'Zbyszek', u'(26) 642-7555', u'ul. Filtrowa 68', None, u'Warszawa', None, u'01-012', u'Poland', None, 0.0),\n",
        " (8, 128, u'Blauer See Auto, Co.', u'Keitel', u'Roland', u'+49 69 66 90 2555', u'Lyonerstr. 34', None, u'Frankfurt', None, u'60528', u'Germany', 17, 59700.0),\n",
        " (9, 129, u'Mini Wheels Co.', u'Murphy', u'Julie', u'6505555787', u'5557 North Pendale Street', None, u'San Francisco', u'CA', u'94217', u'USA', 7, 64600.0),\n",
        " (10, 131, u'Land of Toys Inc.', u'Yu', u'Kwai', u'2125557818', u'897 Long Airport Avenue', None, u'NYC', u'NY', u'10022', u'USA', 12, 114900.0)]"
       ]
      }
     ],
     "prompt_number": 10
    },
    {
     "cell_type": "markdown",
     "metadata": {
      "slideshow": {
       "slide_type": "slide"
      }
     },
     "source": [
      "## Converting to a pandas dataframe"
     ]
    },
    {
     "cell_type": "markdown",
     "metadata": {},
     "source": [
      "If you have pandas installed you can retrieve the data as a pandas dataframe"
     ]
    },
    {
     "cell_type": "code",
     "collapsed": false,
     "input": [
      "customers = %sql $dbConnect select * from customer\n",
      "df = customers.DataFrame()"
     ],
     "language": "python",
     "metadata": {},
     "outputs": [
      {
       "output_type": "stream",
       "stream": "stdout",
       "text": [
        "Done.\n"
       ]
      },
      {
       "ename": "ImportError",
       "evalue": "No module named pandas",
       "output_type": "pyerr",
       "traceback": [
        "\u001b[1;31m---------------------------------------------------------------------------\u001b[0m\n\u001b[1;31mImportError\u001b[0m                               Traceback (most recent call last)",
        "\u001b[1;32m<ipython-input-11-13e1ffd491ff>\u001b[0m in \u001b[0;36m<module>\u001b[1;34m()\u001b[0m\n\u001b[0;32m      1\u001b[0m \u001b[0mcustomers\u001b[0m \u001b[1;33m=\u001b[0m \u001b[0mget_ipython\u001b[0m\u001b[1;33m(\u001b[0m\u001b[1;33m)\u001b[0m\u001b[1;33m.\u001b[0m\u001b[0mmagic\u001b[0m\u001b[1;33m(\u001b[0m\u001b[1;34mu'sql $dbConnect select * from customer'\u001b[0m\u001b[1;33m)\u001b[0m\u001b[1;33m\u001b[0m\u001b[0m\n\u001b[1;32m----> 2\u001b[1;33m \u001b[0mdf\u001b[0m \u001b[1;33m=\u001b[0m \u001b[0mcustomers\u001b[0m\u001b[1;33m.\u001b[0m\u001b[0mDataFrame\u001b[0m\u001b[1;33m(\u001b[0m\u001b[1;33m)\u001b[0m\u001b[1;33m\u001b[0m\u001b[0m\n\u001b[0m",
        "\u001b[1;32m/usr/local/lib/python2.7/dist-packages/sql/run.pyc\u001b[0m in \u001b[0;36mDataFrame\u001b[1;34m(self)\u001b[0m\n\u001b[0;32m     75\u001b[0m     \u001b[1;32mdef\u001b[0m \u001b[0mDataFrame\u001b[0m\u001b[1;33m(\u001b[0m\u001b[0mself\u001b[0m\u001b[1;33m)\u001b[0m\u001b[1;33m:\u001b[0m\u001b[1;33m\u001b[0m\u001b[0m\n\u001b[0;32m     76\u001b[0m         \u001b[1;34m\"Returns a Pandas DataFrame instance built from the result set.\"\u001b[0m\u001b[1;33m\u001b[0m\u001b[0m\n\u001b[1;32m---> 77\u001b[1;33m         \u001b[1;32mimport\u001b[0m \u001b[0mpandas\u001b[0m \u001b[1;32mas\u001b[0m \u001b[0mpd\u001b[0m\u001b[1;33m\u001b[0m\u001b[0m\n\u001b[0m\u001b[0;32m     78\u001b[0m         \u001b[0mframe\u001b[0m \u001b[1;33m=\u001b[0m \u001b[0mpd\u001b[0m\u001b[1;33m.\u001b[0m\u001b[0mDataFrame\u001b[0m\u001b[1;33m(\u001b[0m\u001b[0mself\u001b[0m\u001b[1;33m,\u001b[0m \u001b[0mcolumns\u001b[0m\u001b[1;33m=\u001b[0m\u001b[1;33m(\u001b[0m\u001b[0mself\u001b[0m \u001b[1;32mand\u001b[0m \u001b[0mself\u001b[0m\u001b[1;33m.\u001b[0m\u001b[0mkeys\u001b[0m\u001b[1;33m)\u001b[0m \u001b[1;32mor\u001b[0m \u001b[1;33m[\u001b[0m\u001b[1;33m]\u001b[0m\u001b[1;33m)\u001b[0m\u001b[1;33m\u001b[0m\u001b[0m\n\u001b[0;32m     79\u001b[0m         \u001b[1;32mreturn\u001b[0m \u001b[0mframe\u001b[0m\u001b[1;33m\u001b[0m\u001b[0m\n",
        "\u001b[1;31mImportError\u001b[0m: No module named pandas"
       ]
      }
     ],
     "prompt_number": 11
    },
    {
     "cell_type": "markdown",
     "metadata": {
      "slideshow": {
       "slide_type": "slide"
      }
     },
     "source": [
      "Display the top few row"
     ]
    },
    {
     "cell_type": "code",
     "collapsed": false,
     "input": [
      "df.head()"
     ],
     "language": "python",
     "metadata": {},
     "outputs": [
      {
       "ename": "NameError",
       "evalue": "name 'df' is not defined",
       "output_type": "pyerr",
       "traceback": [
        "\u001b[1;31m---------------------------------------------------------------------------\u001b[0m\n\u001b[1;31mNameError\u001b[0m                                 Traceback (most recent call last)",
        "\u001b[1;32m<ipython-input-12-2569c44faf66>\u001b[0m in \u001b[0;36m<module>\u001b[1;34m()\u001b[0m\n\u001b[1;32m----> 1\u001b[1;33m \u001b[0mdf\u001b[0m\u001b[1;33m.\u001b[0m\u001b[0mhead\u001b[0m\u001b[1;33m(\u001b[0m\u001b[1;33m)\u001b[0m\u001b[1;33m\u001b[0m\u001b[0m\n\u001b[0m",
        "\u001b[1;31mNameError\u001b[0m: name 'df' is not defined"
       ]
      }
     ],
     "prompt_number": 12
    },
    {
     "cell_type": "markdown",
     "metadata": {
      "slideshow": {
       "slide_type": "slide"
      }
     },
     "source": [
      "Show a quick summary of the data"
     ]
    },
    {
     "cell_type": "code",
     "collapsed": false,
     "input": [
      "df.describe()"
     ],
     "language": "python",
     "metadata": {},
     "outputs": []
    },
    {
     "cell_type": "markdown",
     "metadata": {
      "slideshow": {
       "slide_type": "slide"
      }
     },
     "source": [
      "Select a single column"
     ]
    },
    {
     "cell_type": "code",
     "collapsed": false,
     "input": [
      "df.city"
     ],
     "language": "python",
     "metadata": {},
     "outputs": []
    },
    {
     "cell_type": "markdown",
     "metadata": {
      "slideshow": {
       "slide_type": "slide"
      }
     },
     "source": [
      "Display all cities in the USA"
     ]
    },
    {
     "cell_type": "code",
     "collapsed": false,
     "input": [
      "df[df.country == 'USA'].city"
     ],
     "language": "python",
     "metadata": {},
     "outputs": []
    },
    {
     "cell_type": "markdown",
     "metadata": {
      "slideshow": {
       "slide_type": "slide"
      }
     },
     "source": [
      "Reverse sort the data by contactlastname"
     ]
    },
    {
     "cell_type": "code",
     "collapsed": false,
     "input": [
      "df.sort(columns='contactlastname', ascending=False)"
     ],
     "language": "python",
     "metadata": {},
     "outputs": []
    },
    {
     "cell_type": "markdown",
     "metadata": {
      "slideshow": {
       "slide_type": "slide"
      }
     },
     "source": [
      "Get the credit limit by city"
     ]
    },
    {
     "cell_type": "code",
     "collapsed": false,
     "input": [
      "df[['city', 'creditlimit']].groupby('city').sum()"
     ],
     "language": "python",
     "metadata": {},
     "outputs": []
    },
    {
     "cell_type": "markdown",
     "metadata": {
      "slideshow": {
       "slide_type": "slide"
      }
     },
     "source": [
      "## SQL Alchemy"
     ]
    },
    {
     "cell_type": "markdown",
     "metadata": {},
     "source": [
      "Create the SQLAlchemy engine"
     ]
    },
    {
     "cell_type": "code",
     "collapsed": false,
     "input": [
      "from sqlalchemy import create_engine\n",
      "engine = create_engine(dbConnect, echo=False)"
     ],
     "language": "python",
     "metadata": {},
     "outputs": []
    },
    {
     "cell_type": "markdown",
     "metadata": {},
     "source": [
      "Reflect the tables using the metadata"
     ]
    },
    {
     "cell_type": "code",
     "collapsed": false,
     "input": [
      "from sqlalchemy import Table, MetaData\n",
      "meta = MetaData()\n",
      "meta.reflect(bind=engine)\n",
      "employee_table = meta.tables['employee']\n",
      "customer_table = meta.tables['customer']"
     ],
     "language": "python",
     "metadata": {},
     "outputs": []
    },
    {
     "cell_type": "markdown",
     "metadata": {},
     "source": [
      "Setup the relationships between the tables"
     ]
    },
    {
     "cell_type": "code",
     "collapsed": false,
     "input": [
      "from sqlalchemy import ForeignKey, ForeignKeyConstraint\n",
      "customer_table.columns.salesrepemployeenumber.append_foreign_key(ForeignKey('employee.id'))"
     ],
     "language": "python",
     "metadata": {},
     "outputs": []
    },
    {
     "cell_type": "markdown",
     "metadata": {},
     "source": [
      "Map classes using the declarative base class"
     ]
    },
    {
     "cell_type": "code",
     "collapsed": false,
     "input": [
      "from sqlalchemy.ext.declarative import declarative_base\n",
      "from sqlalchemy.orm import relationship\n",
      "from sqlalchemy import Integer, Column\n",
      "Base = declarative_base()\n",
      "\n",
      "class Employee(Base):\n",
      "    __table__ = employee_table\n",
      "    customers = relationship(\"Customer\")\n",
      "    \n",
      "class Customer(Base):\n",
      "    __table__ = customer_table    \n",
      "    salesrep = relationship(\"Employee\")"
     ],
     "language": "python",
     "metadata": {},
     "outputs": []
    },
    {
     "cell_type": "markdown",
     "metadata": {},
     "source": [
      "Create a session"
     ]
    },
    {
     "cell_type": "code",
     "collapsed": false,
     "input": [
      "from sqlalchemy.orm import sessionmaker\n",
      "Session = sessionmaker(bind=engine)\n",
      "session = Session()"
     ],
     "language": "python",
     "metadata": {},
     "outputs": []
    },
    {
     "cell_type": "markdown",
     "metadata": {},
     "source": [
      "Use the classes to query the database"
     ]
    },
    {
     "cell_type": "code",
     "collapsed": false,
     "input": [
      "customers = session.query(Customer)\n",
      "customer = customers[0]"
     ],
     "language": "python",
     "metadata": {},
     "outputs": []
    },
    {
     "cell_type": "markdown",
     "metadata": {},
     "source": [
      "Get the customer's salesrep number"
     ]
    },
    {
     "cell_type": "code",
     "collapsed": false,
     "input": [
      "customer.salesrepemployeenumber"
     ],
     "language": "python",
     "metadata": {},
     "outputs": []
    },
    {
     "cell_type": "markdown",
     "metadata": {},
     "source": [
      "Use the relationship to get the salerep's name"
     ]
    },
    {
     "cell_type": "code",
     "collapsed": false,
     "input": [
      "customer.salesrep.lastname"
     ],
     "language": "python",
     "metadata": {},
     "outputs": []
    },
    {
     "cell_type": "markdown",
     "metadata": {},
     "source": [
      "Display all the customers that this sales rep has"
     ]
    },
    {
     "cell_type": "code",
     "collapsed": false,
     "input": [
      "customer.salesrep.customers"
     ],
     "language": "python",
     "metadata": {},
     "outputs": []
    },
    {
     "cell_type": "markdown",
     "metadata": {},
     "source": [
      "Show the customers names"
     ]
    },
    {
     "cell_type": "code",
     "collapsed": false,
     "input": [
      "[c.customername for c in customer.salesrep.customers]"
     ],
     "language": "python",
     "metadata": {},
     "outputs": []
    },
    {
     "cell_type": "code",
     "collapsed": false,
     "input": [],
     "language": "python",
     "metadata": {},
     "outputs": []
    }
   ],
   "metadata": {}
  }
 ]
}