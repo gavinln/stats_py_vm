{
 "cells": [
  {
   "cell_type": "code",
   "execution_count": 1,
   "metadata": {
    "collapsed": false,
    "deletable": true,
    "editable": true
   },
   "outputs": [],
   "source": [
    "import pandas as pd\n",
    "import jinja2\n",
    "\n",
    "from collections import OrderedDict\n",
    "from json import dumps\n",
    "from IPython.html.widgets import interact\n",
    "from IPython.html import widgets\n",
    "from IPython.display import display, display_pretty, Javascript, HTML\n",
    "from IPython.utils.traitlets import Any, Bool, Dict, List, Unicode\n",
    "from threading import Lock\n",
    "from urllib2 import urlopen"
   ]
  },
  {
   "cell_type": "markdown",
   "metadata": {
    "deletable": true,
    "editable": true
   },
   "source": [
    "# Embedding Interactive Charts on an IPython Notebook"
   ]
  },
  {
   "cell_type": "markdown",
   "metadata": {
    "deletable": true,
    "editable": true
   },
   "source": [
    "## Introduction"
   ]
  },
  {
   "cell_type": "markdown",
   "metadata": {
    "deletable": true,
    "editable": true
   },
   "source": [
    "In this three part post we’ll show you how easy it is to integrate D3.js, Chart.js and HighCharts chart into an notebook and how to make them interactive using HTML widgets."
   ]
  },
  {
   "cell_type": "markdown",
   "metadata": {
    "deletable": true,
    "editable": true
   },
   "source": [
    "## Requirements"
   ]
  },
  {
   "cell_type": "markdown",
   "metadata": {
    "deletable": true,
    "editable": true
   },
   "source": [
    "The only requirement to run the examples is IPython Notebook version 2.0 or greater. All the modules that we reference are either in the standard Python distribution, or are dependencies of IPython."
   ]
  },
  {
   "cell_type": "markdown",
   "metadata": {
    "deletable": true,
    "editable": true
   },
   "source": [
    "## About Pandas"
   ]
  },
  {
   "cell_type": "markdown",
   "metadata": {
    "deletable": true,
    "editable": true
   },
   "source": [
    "Although Pandas is not strictly necessary to accomplish what we do in the examples, it is such a popular data analysis tool that we wanted to use it anyway. We recommend that you read the 10 Minutes to Pandas tutorial to get and idea of what it can do or buy *Python for Data Analysis* for an in depth guide of data analysis using Python, Pandas and NumPy."
   ]
  },
  {
   "cell_type": "markdown",
   "metadata": {
    "deletable": true,
    "editable": true
   },
   "source": [
    "## About the Data"
   ]
  },
  {
   "cell_type": "markdown",
   "metadata": {
    "deletable": true,
    "editable": true
   },
   "source": [
    "All the data that we use in the examples are taken from the [United States Census Bureau](http://www.census.gov) site. We're going to use 2012 population estimates and we're going to plot the sex and age groups by the state, region and division."
   ]
  },
  {
   "cell_type": "markdown",
   "metadata": {
    "deletable": true,
    "editable": true
   },
   "source": [
    "### Population by State"
   ]
  },
  {
   "cell_type": "markdown",
   "metadata": {
    "deletable": true,
    "editable": true
   },
   "source": [
    "We're going to build a Pandas DataFrame from the dataset of [Incorporated Places and Minor Civil Divisions](http://www.census.gov/popest/data/cities/totals/2012/SUB-EST2012.html). We could have just grabbed the [estimates for the states](http://www.census.gov/popest/data/state/totals/2012/index.html), but also wanted to show you how easy it is to work with data using Pandas. First, we fetch the data using [urlopen](https://docs.python.org/2/library/urllib2.html#urllib2.urlopen) and we parse the response as CSV using Pandas' [read_csv](http://pandas.pydata.org/pandas-docs/version/0.13.1/generated/pandas.io.parsers.read_csv.html) function:"
   ]
  },
  {
   "cell_type": "code",
   "execution_count": 2,
   "metadata": {
    "collapsed": false,
    "deletable": true,
    "editable": true
   },
   "outputs": [],
   "source": [
    "sub_est_2012_df = pd.read_csv(\n",
    "    urlopen('http://www.census.gov/popest/data/cities/totals/2012/files/SUB-EST2012.csv'),\n",
    "    encoding='latin-1',\n",
    "    dtype={'STATE': 'str', 'COUNTY': 'str', 'PLACE': 'str'}\n",
    ")"
   ]
  },
  {
   "cell_type": "markdown",
   "metadata": {
    "deletable": true,
    "editable": true
   },
   "source": [
    "The resulting data frame has a lot of information that we don’t need and can be discarded. According to the [file layout description](http://www.census.gov/popest/data/cities/totals/2012/files/SUB-EST2012.pdf), the data is summarized at the nation, state, county and place levels according to the SUMLEV column. Since we’re only interested in the population for each state we can just filter the rows with SUMLEV ‘40’, but wanted to show you how to use the aggregate feature of Pandas’ DataFrames, so we’ll take the data summarized at the count level (SUMLEV ‘50’), then we’ll group by state, and sum the population estimates."
   ]
  },
  {
   "cell_type": "code",
   "execution_count": 3,
   "metadata": {
    "collapsed": false,
    "deletable": true,
    "editable": true
   },
   "outputs": [],
   "source": [
    "sub_est_2012_df_by_county = sub_est_2012_df[sub_est_2012_df.SUMLEV == 50]\n",
    "sub_est_2012_df_by_state = sub_est_2012_df_by_county.groupby(['STATE']).sum()\n",
    "\n",
    "# Alternatively we could have just taken the summary rows for the states\n",
    "\n",
    "# sub_est_2012_df_by_state = sub_est_2012_df[sub_est_2012_df.SUMLEV == 40]"
   ]
  },
  {
   "cell_type": "markdown",
   "metadata": {
    "deletable": true,
    "editable": true
   },
   "source": [
    "If you see the table, the states are referenced using their ANSI codes. We can augment the table to include the state names and abbreviations by merging with [another resource](http://www.census.gov/geo/reference/ansi_statetables.html) from the Geography section of the US Census Bureau site. We use `read_csv` Pandas function making sure that we use the pipe character (|) as separator."
   ]
  },
  {
   "cell_type": "code",
   "execution_count": 4,
   "metadata": {
    "collapsed": false,
    "deletable": true,
    "editable": true
   },
   "outputs": [],
   "source": [
    "# Taken from http://www.census.gov/geo/reference/ansi_statetables.html\n",
    "\n",
    "state = pd.read_csv(urlopen('http://www.census.gov/geo/reference/docs/state.txt'), sep='|', dtype={'STATE': 'str'})"
   ]
  },
  {
   "cell_type": "code",
   "execution_count": 5,
   "metadata": {
    "collapsed": false,
    "deletable": true,
    "editable": true
   },
   "outputs": [],
   "source": [
    "state.drop(\n",
    "    ['STATENS'],\n",
    "    inplace=True, axis=1\n",
    ")"
   ]
  },
  {
   "cell_type": "code",
   "execution_count": 6,
   "metadata": {
    "collapsed": false,
    "deletable": true,
    "editable": true
   },
   "outputs": [],
   "source": [
    "sub_est_2012_df_by_state = pd.merge(sub_est_2012_df_by_state, state, left_index=True, right_on='STATE')\n",
    "sub_est_2012_df_by_state.drop(\n",
    "    ['SUMLEV', 'COUSUB', 'CONCIT', 'ESTIMATESBASE2010', 'POPESTIMATE2010', 'POPESTIMATE2011'],\n",
    "    inplace=True, axis=1\n",
    ")"
   ]
  },
  {
   "cell_type": "markdown",
   "metadata": {
    "deletable": true,
    "editable": true
   },
   "source": [
    "We're also interested in plotting the information about the age and sex of the people, and for that we can use the [Annual Estimates of the Civilian Population by Single Year of Age and Sex](http://www.census.gov/popest/data/state/asrh/2012/SC-EST2012-AGESEX-CIV.html)."
   ]
  },
  {
   "cell_type": "code",
   "execution_count": 7,
   "metadata": {
    "collapsed": false,
    "deletable": true,
    "editable": true
   },
   "outputs": [],
   "source": [
    "# Taken from http://www.census.gov/popest/data/state/asrh/2012/SC-EST2012-AGESEX-CIV.html\n",
    "\n",
    "sc_est2012_agesex_civ_df = pd.read_csv(\n",
    "    urlopen('http://www.census.gov/popest/data/state/asrh/2012/files/SC-EST2012-AGESEX-CIV.csv'),\n",
    "    encoding='latin-1',\n",
    "    dtype={'SUMLEV': 'str'}\n",
    ")"
   ]
  },
  {
   "cell_type": "markdown",
   "metadata": {
    "deletable": true,
    "editable": true
   },
   "source": [
    "Once again, the table is summarized at many levels, but we're only interested in the information at the state level, so we filter out the unnecessary rows. We also do a little bit of processing to the STATE column so it can be used to merge with the state DataFrame."
   ]
  },
  {
   "cell_type": "code",
   "execution_count": 8,
   "metadata": {
    "collapsed": false,
    "deletable": true,
    "editable": true
   },
   "outputs": [
    {
     "name": "stderr",
     "output_type": "stream",
     "text": [
      "-c:8: SettingWithCopyWarning: A value is trying to be set on a copy of a slice from a DataFrame\n",
      "-c:10: SettingWithCopyWarning: A value is trying to be set on a copy of a slice from a DataFrame.\n",
      "Try using .loc[row_index,col_indexer] = value instead\n"
     ]
    }
   ],
   "source": [
    "sc_est2012_agesex_civ_df_sumlev040 = sc_est2012_agesex_civ_df[\n",
    "    (sc_est2012_agesex_civ_df.SUMLEV == '040') &\n",
    "    (sc_est2012_agesex_civ_df.SEX != 0) &\n",
    "    (sc_est2012_agesex_civ_df.AGE != 999)\n",
    "]\n",
    "sc_est2012_agesex_civ_df_sumlev040.drop(\n",
    "    ['SUMLEV', 'NAME', 'ESTBASE2010_CIV', 'POPEST2010_CIV', 'POPEST2011_CIV'],\n",
    "    inplace=True, axis=1\n",
    ")\n",
    "sc_est2012_agesex_civ_df_sumlev040['STATE'] = sc_est2012_agesex_civ_df_sumlev040['STATE'].apply(lambda x: '%02d' % (x,))"
   ]
  },
  {
   "cell_type": "markdown",
   "metadata": {
    "deletable": true,
    "editable": true
   },
   "source": [
    "What we need to do is group the rows by state, region, division and sex, and sum across all ages. Afterwards, we augment the result with the names and abbreviations of the states. "
   ]
  },
  {
   "cell_type": "code",
   "execution_count": 9,
   "metadata": {
    "collapsed": false,
    "deletable": true,
    "editable": true
   },
   "outputs": [],
   "source": [
    "sc_est2012_sex = sc_est2012_agesex_civ_df_sumlev040.groupby(['STATE', 'REGION', 'DIVISION', 'SEX'], as_index=False)[['POPEST2012_CIV']].sum()\n",
    "sc_est2012_sex = pd.merge(sc_est2012_sex, state, left_on='STATE', right_on='STATE')"
   ]
  },
  {
   "cell_type": "markdown",
   "metadata": {
    "deletable": true,
    "editable": true
   },
   "source": [
    "For the age information, we group by state, region, division and age and we sum across all sexes. If you see the result, you'll notice that there's a row for each year. This is pretty useful for analysis, but it can be problematic to plot, so we're going to group the rows according to age buckets of 20 years. Once again, we add the state information at the end."
   ]
  },
  {
   "cell_type": "code",
   "execution_count": 10,
   "metadata": {
    "collapsed": false,
    "deletable": true,
    "editable": true
   },
   "outputs": [],
   "source": [
    "sc_est2012_age = sc_est2012_agesex_civ_df_sumlev040.groupby(['STATE', 'REGION', 'DIVISION', 'AGE'], as_index=False)[['POPEST2012_CIV']].sum()"
   ]
  },
  {
   "cell_type": "code",
   "execution_count": 11,
   "metadata": {
    "collapsed": false,
    "deletable": true,
    "editable": true
   },
   "outputs": [],
   "source": [
    "age_buckets = pd.cut(sc_est2012_age.AGE, range(0,100,20))"
   ]
  },
  {
   "cell_type": "code",
   "execution_count": 12,
   "metadata": {
    "collapsed": false,
    "deletable": true,
    "editable": true
   },
   "outputs": [],
   "source": [
    "sc_est2012_age = sc_est2012_age.groupby(['STATE', 'REGION', 'DIVISION', age_buckets], as_index=False)['POPEST2012_CIV'].sum()\n",
    "sc_est2012_age = pd.merge(sc_est2012_age, state, left_on='STATE', right_on='STATE')"
   ]
  },
  {
   "cell_type": "markdown",
   "metadata": {
    "deletable": true,
    "editable": true
   },
   "source": [
    "We also need information about regions and divisions, but since the dataset is small, we'll build the dictionaries by hand."
   ]
  },
  {
   "cell_type": "code",
   "execution_count": 13,
   "metadata": {
    "collapsed": false,
    "deletable": true,
    "editable": true
   },
   "outputs": [],
   "source": [
    "region_codes = {\n",
    "    0: 'United States Total',\n",
    "    1: 'Northeast',\n",
    "    2: 'Midwest',\n",
    "    3: 'South',\n",
    "    4: 'West'\n",
    "}\n",
    "division_codes = {\n",
    "    0: 'United States Total',\n",
    "    1: 'New England',\n",
    "    2: 'Middle Atlantic',\n",
    "    3: 'East North Central',\n",
    "    4: 'West North Central',\n",
    "    5: 'South Atlantic',\n",
    "    6: 'East South Central',\n",
    "    7: 'West South Central',\n",
    "    8: 'Mountain',\n",
    "    9: 'Pacific'\n",
    "}"
   ]
  },
  {
   "cell_type": "markdown",
   "metadata": {
    "deletable": true,
    "editable": true
   },
   "source": [
    "## Part 1 - Embedding D3.js"
   ]
  },
  {
   "cell_type": "markdown",
   "metadata": {
    "deletable": true,
    "editable": true
   },
   "source": [
    "[D3.js](http://d3js.org/) is an incredibly flexible JavaScript chart library. Although it is primarily used to plot data, it can be used to draw arbitrary graphics and animations.\n",
    "\n",
    "Let's build a column chart of the five most populated states in the USA. IPython Notebooks are regular web pages so in order to use any JavaScript library in it, we need to load the necessary requirements. IPython Notebook uses [RequireJS](http://requirejs.org/) to load its own requirements, so we can make use of it with the `%%javascript` cell magic to load external dependencies.\n",
    "\n",
    "In all the examples of this notebook we'll load the libraries from [cdnjs.com](http://cdnjs.com/), so to declare the requirement of  D3.js we do"
   ]
  },
  {
   "cell_type": "code",
   "execution_count": 14,
   "metadata": {
    "collapsed": false,
    "deletable": true,
    "editable": true
   },
   "outputs": [
    {
     "data": {
      "application/javascript": [
       "require.config({\n",
       "    paths: {\n",
       "        d3: '//cdnjs.cloudflare.com/ajax/libs/d3/3.4.8/d3.min'\n",
       "    }\n",
       "});"
      ],
      "text/plain": [
       "<IPython.core.display.Javascript at 0x7f0285c63c10>"
      ]
     },
     "metadata": {},
     "output_type": "display_data"
    }
   ],
   "source": [
    "%%javascript\n",
    "require.config({\n",
    "    paths: {\n",
    "        d3: '//cdnjs.cloudflare.com/ajax/libs/d3/3.4.8/d3.min'\n",
    "    }\n",
    "});"
   ]
  },
  {
   "cell_type": "markdown",
   "metadata": {
    "deletable": true,
    "editable": true
   },
   "source": [
    "Now we'll make use of the `display` function and `HTML` from the IPython Notebook [API](http://ipython.org/ipython-doc/2/api/generated/IPython.core.display.html#module-IPython.core.display) to render HTML content within the notebook itself. We're declaring styles to change the look and feel of the plots, and we define a new `div` with id `\"chart_d3\"` that the library is going to use as the target of the plot."
   ]
  },
  {
   "cell_type": "code",
   "execution_count": 15,
   "metadata": {
    "collapsed": false,
    "deletable": true,
    "editable": true
   },
   "outputs": [
    {
     "data": {
      "text/html": [
       "\n",
       "<style>\n",
       ".bar {\n",
       "  fill: steelblue;\n",
       "}\n",
       ".bar:hover {\n",
       "  fill: brown;\n",
       "}\n",
       ".axis {\n",
       "  font: 10px sans-serif;\n",
       "}\n",
       ".axis path,\n",
       ".axis line {\n",
       "  fill: none;\n",
       "  stroke: #000;\n",
       "}\n",
       ".x.axis path {\n",
       "  display: none;\n",
       "}\n",
       "</style>\n",
       "<div id=\"chart_d3\"/>\n"
      ],
      "text/plain": [
       "<IPython.core.display.HTML at 0x7f0284481850>"
      ]
     },
     "metadata": {},
     "output_type": "display_data"
    }
   ],
   "source": [
    "display(HTML(\"\"\"\n",
    "<style>\n",
    ".bar {\n",
    "  fill: steelblue;\n",
    "}\n",
    ".bar:hover {\n",
    "  fill: brown;\n",
    "}\n",
    ".axis {\n",
    "  font: 10px sans-serif;\n",
    "}\n",
    ".axis path,\n",
    ".axis line {\n",
    "  fill: none;\n",
    "  stroke: #000;\n",
    "}\n",
    ".x.axis path {\n",
    "  display: none;\n",
    "}\n",
    "</style>\n",
    "<div id=\"chart_d3\"/>\n",
    "\"\"\"))"
   ]
  },
  {
   "cell_type": "markdown",
   "metadata": {
    "deletable": true,
    "editable": true
   },
   "source": [
    "Next, we define a template with the JavaScript code that is going to render the chart. Notice that we iterate over the \"data\" parameter to populate the \"data\" variable in JavaScript. Afterwards, we use the `display` method once again to force the execution of the JavaScript code, which renders the chart on the target div."
   ]
  },
  {
   "cell_type": "markdown",
   "metadata": {
    "deletable": true,
    "editable": true
   },
   "source": [
    "### sub_est_2012_df_by_state_template"
   ]
  },
  {
   "cell_type": "code",
   "execution_count": 16,
   "metadata": {
    "collapsed": false,
    "deletable": true,
    "editable": true
   },
   "outputs": [
    {
     "data": {
      "application/javascript": [
       "\n",
       "// Based on http://bl.ocks.org/mbostock/3885304\n",
       "\n",
       "require([\"d3\"], function(d3) {\n",
       "    var data = []\n",
       "\n",
       "    \n",
       "    data.push({ 'state': 'California', 'population': 38041430 });\n",
       "    \n",
       "    data.push({ 'state': 'Texas', 'population': 26059203 });\n",
       "    \n",
       "    data.push({ 'state': 'New York', 'population': 19570261 });\n",
       "    \n",
       "    data.push({ 'state': 'Florida', 'population': 19317568 });\n",
       "    \n",
       "    data.push({ 'state': 'Illinois', 'population': 12875255 });\n",
       "    \n",
       "\n",
       "    d3.select(\"#chart_d3 svg\").remove()\n",
       "\n",
       "    var margin = {top: 20, right: 20, bottom: 30, left: 40},\n",
       "        width = 800 - margin.left - margin.right,\n",
       "        height = 400 - margin.top - margin.bottom;\n",
       "\n",
       "    var x = d3.scale.ordinal()\n",
       "        .rangeRoundBands([0, width], .25);\n",
       "\n",
       "    var y = d3.scale.linear()\n",
       "        .range([height, 0]);\n",
       "\n",
       "    var xAxis = d3.svg.axis()\n",
       "        .scale(x)\n",
       "        .orient(\"bottom\");\n",
       "\n",
       "    var yAxis = d3.svg.axis()\n",
       "        .scale(y)\n",
       "        .orient(\"left\")\n",
       "        .ticks(10)\n",
       "        .tickFormat(d3.format('.1s'));\n",
       "        \n",
       "    var svg = d3.select(\"#chart_d3\").append(\"svg\")\n",
       "        .attr(\"width\", width + margin.left + margin.right)\n",
       "        .attr(\"height\", height + margin.top + margin.bottom)\n",
       "        .append(\"g\")\n",
       "        .attr(\"transform\", \"translate(\" + margin.left + \",\" + margin.top + \")\");\n",
       "\n",
       "    x.domain(data.map(function(d) { return d.state; }));\n",
       "    y.domain([0, d3.max(data, function(d) { return d.population; })]);\n",
       "\n",
       "    svg.append(\"g\")\n",
       "        .attr(\"class\", \"x axis\")\n",
       "        .attr(\"transform\", \"translate(0,\" + height + \")\")\n",
       "        .call(xAxis);\n",
       "\n",
       "    svg.append(\"g\")\n",
       "        .attr(\"class\", \"y axis\")\n",
       "        .call(yAxis)\n",
       "        .append(\"text\")\n",
       "        .attr(\"transform\", \"rotate(-90)\")\n",
       "        .attr(\"y\", 6)\n",
       "        .attr(\"dy\", \".71em\")\n",
       "        .style(\"text-anchor\", \"end\")\n",
       "        .text(\"Population\");\n",
       "\n",
       "    svg.selectAll(\".bar\")\n",
       "        .data(data)\n",
       "        .enter().append(\"rect\")\n",
       "        .attr(\"class\", \"bar\")\n",
       "        .attr(\"x\", function(d) { return x(d.state); })\n",
       "        .attr(\"width\", x.rangeBand())\n",
       "        .attr(\"y\", function(d) { return y(d.population); })\n",
       "        .attr(\"height\", function(d) { return height - y(d.population); });\n",
       "});"
      ],
      "text/plain": [
       "<IPython.core.display.Javascript at 0x7f0284f40110>"
      ]
     },
     "metadata": {},
     "output_type": "display_data"
    }
   ],
   "source": [
    "sub_est_2012_df_by_state_template = jinja2.Template(\n",
    "\"\"\"\n",
    "// Based on http://bl.ocks.org/mbostock/3885304\n",
    "\n",
    "require([\"d3\"], function(d3) {\n",
    "    var data = []\n",
    "\n",
    "    {% for row in data %}\n",
    "    data.push({ 'state': '{{ row[4] }}', 'population': {{ row[1] }} });\n",
    "    {% endfor %}\n",
    "\n",
    "    d3.select(\"#chart_d3 svg\").remove()\n",
    "\n",
    "    var margin = {top: 20, right: 20, bottom: 30, left: 40},\n",
    "        width = 800 - margin.left - margin.right,\n",
    "        height = 400 - margin.top - margin.bottom;\n",
    "\n",
    "    var x = d3.scale.ordinal()\n",
    "        .rangeRoundBands([0, width], .25);\n",
    "\n",
    "    var y = d3.scale.linear()\n",
    "        .range([height, 0]);\n",
    "\n",
    "    var xAxis = d3.svg.axis()\n",
    "        .scale(x)\n",
    "        .orient(\"bottom\");\n",
    "\n",
    "    var yAxis = d3.svg.axis()\n",
    "        .scale(y)\n",
    "        .orient(\"left\")\n",
    "        .ticks(10)\n",
    "        .tickFormat(d3.format('.1s'));\n",
    "        \n",
    "    var svg = d3.select(\"#chart_d3\").append(\"svg\")\n",
    "        .attr(\"width\", width + margin.left + margin.right)\n",
    "        .attr(\"height\", height + margin.top + margin.bottom)\n",
    "        .append(\"g\")\n",
    "        .attr(\"transform\", \"translate(\" + margin.left + \",\" + margin.top + \")\");\n",
    "\n",
    "    x.domain(data.map(function(d) { return d.state; }));\n",
    "    y.domain([0, d3.max(data, function(d) { return d.population; })]);\n",
    "\n",
    "    svg.append(\"g\")\n",
    "        .attr(\"class\", \"x axis\")\n",
    "        .attr(\"transform\", \"translate(0,\" + height + \")\")\n",
    "        .call(xAxis);\n",
    "\n",
    "    svg.append(\"g\")\n",
    "        .attr(\"class\", \"y axis\")\n",
    "        .call(yAxis)\n",
    "        .append(\"text\")\n",
    "        .attr(\"transform\", \"rotate(-90)\")\n",
    "        .attr(\"y\", 6)\n",
    "        .attr(\"dy\", \".71em\")\n",
    "        .style(\"text-anchor\", \"end\")\n",
    "        .text(\"Population\");\n",
    "\n",
    "    svg.selectAll(\".bar\")\n",
    "        .data(data)\n",
    "        .enter().append(\"rect\")\n",
    "        .attr(\"class\", \"bar\")\n",
    "        .attr(\"x\", function(d) { return x(d.state); })\n",
    "        .attr(\"width\", x.rangeBand())\n",
    "        .attr(\"y\", function(d) { return y(d.population); })\n",
    "        .attr(\"height\", function(d) { return height - y(d.population); });\n",
    "});\n",
    "\"\"\"\n",
    ")\n",
    "display(Javascript(sub_est_2012_df_by_state_template.render(\n",
    "    data=sub_est_2012_df_by_state.sort(['POPESTIMATE2012'], ascending=False)[:5].itertuples()))\n",
    ")"
   ]
  },
  {
   "cell_type": "markdown",
   "metadata": {
    "deletable": true,
    "editable": true
   },
   "source": [
    "The chart shows that California, Texas, New York, Florida and Illinois are the most populated states. What about the other states? Let's build an interactive chart that allows us to show whichever state we chose. IPython Notebook provides widgets that allow us to get information from the user in an intuitive manner. Sadly, at the time of this writing, there's no widget to select multiple items from a list, so before we move on, let's define such widget."
   ]
  },
  {
   "cell_type": "markdown",
   "metadata": {
    "deletable": true,
    "editable": true
   },
   "source": [
    "### MultipleSelectWidget"
   ]
  },
  {
   "cell_type": "code",
   "execution_count": 17,
   "metadata": {
    "collapsed": false,
    "deletable": true,
    "editable": true
   },
   "outputs": [],
   "source": [
    "class MultipleSelectWidget(widgets.DOMWidget):\n",
    "    _view_name = Unicode('MultipleSelectView', sync=True)\n",
    "    \n",
    "    value = List(sync=True)\n",
    "    values = Dict(sync=True)\n",
    "    values_order = List(sync=True)\n",
    "    description = Unicode(sync=True)\n",
    "\n",
    "    def __init__(self, *args, **kwargs):\n",
    "        self.value_lock = Lock()\n",
    "\n",
    "        self.values = kwargs.get('values', [])\n",
    "        self.value = kwargs.get('value', [])\n",
    "        self.values_order = kwargs.get('values_order', [])\n",
    "            \n",
    "        widgets.DOMWidget.__init__(self, *args, **kwargs)"
   ]
  },
  {
   "cell_type": "code",
   "execution_count": 18,
   "metadata": {
    "collapsed": false,
    "deletable": true,
    "editable": true
   },
   "outputs": [
    {
     "data": {
      "application/javascript": [
       "require([\"widgets/js/widget\"], function(WidgetManager){\n",
       "    var MultipleSelectView = IPython.DOMWidgetView.extend({\n",
       "        initialize: function(parameters) {\n",
       "            this.model.on('change',this.update,this);\n",
       "            this.options = parameters.options;\n",
       "            this.child_views = [];\n",
       "            // I had to override DOMWidgetView's initialize to set model.views otherwise\n",
       "            // multiple views would get attached to the model\n",
       "            this.model.views = [this];\n",
       "        },\n",
       "        \n",
       "        render : function(){\n",
       "            this.$el\n",
       "                .addClass('widget-hbox');\n",
       "            this.$label = $('<div />')\n",
       "                .appendTo(this.$el)\n",
       "                .addClass('widget-hlabel')\n",
       "                .hide();\n",
       "            this.$listbox = $('<select/>')\n",
       "                .addClass('widget-listbox')\n",
       "                .attr('multiple', '')\n",
       "                .attr('size', 6)\n",
       "                .appendTo(this.$el);\n",
       "            this.$el_to_style = this.$listbox;\n",
       "            this.update();\n",
       "        },\n",
       "        \n",
       "        update : function(options){\n",
       "            if (typeof(options) === 'undefined' || options.updated_view != this) {\n",
       "                var values = this.model.get('values');\n",
       "                var values_order = this.model.get('values_order');\n",
       "                \n",
       "                var that = this;\n",
       "                _.each(values_order, function(key, index) {\n",
       "                    if (that.$listbox.find('option[key=\"' + key + '\"]').length === 0) {\n",
       "                        $('<option />')\n",
       "                            .text(values[key])\n",
       "                            .attr('key', key)\n",
       "                            .appendTo(that.$listbox)\n",
       "                            .on('click', $.proxy(that.handle_click, that));\n",
       "                    }                    \n",
       "                });\n",
       "                \n",
       "                var value = this.model.get('value') || [];\n",
       "                \n",
       "                this.$listbox.find('option').each(function(index, element) {\n",
       "                    var key = $(element).attr('key');\n",
       "                    \n",
       "                    if (key in values) {\n",
       "                        if (value.indexOf(key) != -1) {\n",
       "                            $(element).prop('selected', true);\n",
       "                        }\n",
       "                    } else {\n",
       "                        $(element).remove();\n",
       "                    }\n",
       "                });\n",
       "\n",
       "                var description = this.model.get('description');\n",
       "                if (description.length === 0) {\n",
       "                    this.$label.hide();\n",
       "                } else {\n",
       "                    this.$label.text(description);\n",
       "                    this.$label.show();\n",
       "                }\n",
       "            }\n",
       "            return MultipleSelectView.__super__.update.apply(this);\n",
       "        },\n",
       "\n",
       "        handle_click: function (event) {\n",
       "            var value = $(event.target).parent().children('option:selected').map(function() { return $(this).attr('key') }).get()\n",
       "            \n",
       "            this.model.set('value', value, {updated_view: this});\n",
       "            this.touch();\n",
       "        },    \n",
       "    });\n",
       "    WidgetManager.register_widget_view('MultipleSelectView', MultipleSelectView);\n",
       "});"
      ],
      "text/plain": [
       "<IPython.core.display.Javascript at 0x7f0286182f50>"
      ]
     },
     "metadata": {},
     "output_type": "display_data"
    }
   ],
   "source": [
    "%%javascript\n",
    "require([\"widgets/js/widget\"], function(WidgetManager){\n",
    "    var MultipleSelectView = IPython.DOMWidgetView.extend({\n",
    "        initialize: function(parameters) {\n",
    "            this.model.on('change',this.update,this);\n",
    "            this.options = parameters.options;\n",
    "            this.child_views = [];\n",
    "            // I had to override DOMWidgetView's initialize to set model.views otherwise\n",
    "            // multiple views would get attached to the model\n",
    "            this.model.views = [this];\n",
    "        },\n",
    "        \n",
    "        render : function(){\n",
    "            this.$el\n",
    "                .addClass('widget-hbox');\n",
    "            this.$label = $('<div />')\n",
    "                .appendTo(this.$el)\n",
    "                .addClass('widget-hlabel')\n",
    "                .hide();\n",
    "            this.$listbox = $('<select/>')\n",
    "                .addClass('widget-listbox')\n",
    "                .attr('multiple', '')\n",
    "                .attr('size', 6)\n",
    "                .appendTo(this.$el);\n",
    "            this.$el_to_style = this.$listbox;\n",
    "            this.update();\n",
    "        },\n",
    "        \n",
    "        update : function(options){\n",
    "            if (typeof(options) === 'undefined' || options.updated_view != this) {\n",
    "                var values = this.model.get('values');\n",
    "                var values_order = this.model.get('values_order');\n",
    "                \n",
    "                var that = this;\n",
    "                _.each(values_order, function(key, index) {\n",
    "                    if (that.$listbox.find('option[key=\"' + key + '\"]').length === 0) {\n",
    "                        $('<option />')\n",
    "                            .text(values[key])\n",
    "                            .attr('key', key)\n",
    "                            .appendTo(that.$listbox)\n",
    "                            .on('click', $.proxy(that.handle_click, that));\n",
    "                    }                    \n",
    "                });\n",
    "                \n",
    "                var value = this.model.get('value') || [];\n",
    "                \n",
    "                this.$listbox.find('option').each(function(index, element) {\n",
    "                    var key = $(element).attr('key');\n",
    "                    \n",
    "                    if (key in values) {\n",
    "                        if (value.indexOf(key) != -1) {\n",
    "                            $(element).prop('selected', true);\n",
    "                        }\n",
    "                    } else {\n",
    "                        $(element).remove();\n",
    "                    }\n",
    "                });\n",
    "\n",
    "                var description = this.model.get('description');\n",
    "                if (description.length === 0) {\n",
    "                    this.$label.hide();\n",
    "                } else {\n",
    "                    this.$label.text(description);\n",
    "                    this.$label.show();\n",
    "                }\n",
    "            }\n",
    "            return MultipleSelectView.__super__.update.apply(this);\n",
    "        },\n",
    "\n",
    "        handle_click: function (event) {\n",
    "            var value = $(event.target).parent().children('option:selected').map(function() { return $(this).attr('key') }).get()\n",
    "            \n",
    "            this.model.set('value', value, {updated_view: this});\n",
    "            this.touch();\n",
    "        },    \n",
    "    });\n",
    "    WidgetManager.register_widget_view('MultipleSelectView', MultipleSelectView);\n",
    "});"
   ]
  },
  {
   "cell_type": "markdown",
   "metadata": {
    "deletable": true,
    "editable": true
   },
   "source": [
    "We're going to use IPython's [interact](http://ipython.org/ipython-doc/dev/api/generated/IPython.html.widgets.interaction.html#module-IPython.html.widgets.interaction) function to display the widgets and execute the callback function responsible to draw the chart. As we mentioned before, d3 requires a target element to draw the chart, so we use an [HTMLWidget](http://ipython.org/ipython-doc/dev/api/generated/IPython.html.widgets.widget_string.html#module-IPython.html.widgets.widget_string) to make sure the div is properly rendered before the callback is executed."
   ]
  },
  {
   "cell_type": "markdown",
   "metadata": {
    "deletable": true,
    "editable": true
   },
   "source": [
    "### display_chart_d3"
   ]
  },
  {
   "cell_type": "code",
   "execution_count": 19,
   "metadata": {
    "collapsed": false,
    "deletable": true,
    "editable": true
   },
   "outputs": [],
   "source": [
    "def display_chart_d3(data, show_javascript, states, div):\n",
    "    sub_est_2012_df_by_state_template = jinja2.Template(\n",
    "    \"\"\"\n",
    "    // Based on http://www.recursion.org/d3-for-mere-mortals/\n",
    "\n",
    "    require([\"d3\"], function(d3) {\n",
    "        var data = []\n",
    "\n",
    "        {% for row in data %}\n",
    "        data.push({ 'state': '{{ row[4] }}', 'population': {{ row[1] }} });\n",
    "        {% endfor %}\n",
    "\n",
    "        d3.select(\"#chart_d3_interactive svg\").remove()\n",
    "\n",
    "        var margin = {top: 20, right: 20, bottom: 30, left: 40},\n",
    "            width = 800 - margin.left - margin.right,\n",
    "            height = 400 - margin.top - margin.bottom;\n",
    "\n",
    "        var x = d3.scale.ordinal()\n",
    "            .rangeRoundBands([0, width], .25);\n",
    "\n",
    "        var y = d3.scale.linear()\n",
    "            .range([height, 0]);\n",
    "\n",
    "        var xAxis = d3.svg.axis()\n",
    "            .scale(x)\n",
    "            .orient(\"bottom\");\n",
    "\n",
    "        var yAxis = d3.svg.axis()\n",
    "            .scale(y)\n",
    "            .orient(\"left\")\n",
    "            .ticks(10)\n",
    "            .tickFormat(d3.format('.1s'));\n",
    "\n",
    "        var svg = d3.select(\"#chart_d3_interactive\").append(\"svg\")\n",
    "            .attr(\"width\", width + margin.left + margin.right)\n",
    "            .attr(\"height\", height + margin.top + margin.bottom)\n",
    "            .append(\"g\")\n",
    "            .attr(\"transform\", \"translate(\" + margin.left + \",\" + margin.top + \")\");\n",
    "\n",
    "        x.domain(data.map(function(d) { return d.state; }));\n",
    "        y.domain([0, d3.max(data, function(d) { return d.population; })]);\n",
    "\n",
    "        svg.append(\"g\")\n",
    "            .attr(\"class\", \"x axis\")\n",
    "            .attr(\"transform\", \"translate(0,\" + height + \")\")\n",
    "            .call(xAxis);\n",
    "\n",
    "        svg.append(\"g\")\n",
    "            .attr(\"class\", \"y axis\")\n",
    "            .call(yAxis)\n",
    "            .append(\"text\")\n",
    "            .attr(\"transform\", \"rotate(-90)\")\n",
    "            .attr(\"y\", 6)\n",
    "            .attr(\"dy\", \".71em\")\n",
    "            .style(\"text-anchor\", \"end\")\n",
    "            .text(\"Population\");\n",
    "\n",
    "        svg.selectAll(\".bar\")\n",
    "            .data(data)\n",
    "            .enter().append(\"rect\")\n",
    "            .attr(\"class\", \"bar\")\n",
    "            .attr(\"x\", function(d) { return x(d.state); })\n",
    "            .attr(\"width\", x.rangeBand())\n",
    "            .attr(\"y\", function(d) { return y(d.population); })\n",
    "            .attr(\"height\", function(d) { return height - y(d.population); });\n",
    "    });\n",
    "    \"\"\"\n",
    "    )\n",
    "    rendered_template = sub_est_2012_df_by_state_template.render(\n",
    "        data=data[data['STUSAB'].map(lambda v: v in states)].itertuples()\n",
    "    )\n",
    "    \n",
    "    if show_javascript:\n",
    "        display(widgets.PopupWidget(children=(widgets.HTMLWidget(value='<div style=\"width:600px; height: 400px; overflow:scroll;\"><pre>{}</pre></div>'.format(rendered_template)),)))\n",
    "        \n",
    "    display(Javascript(rendered_template))"
   ]
  },
  {
   "cell_type": "code",
   "execution_count": 20,
   "metadata": {
    "collapsed": false,
    "deletable": true,
    "editable": true
   },
   "outputs": [
    {
     "data": {
      "application/javascript": [
       "\n",
       "    // Based on http://www.recursion.org/d3-for-mere-mortals/\n",
       "\n",
       "    require([\"d3\"], function(d3) {\n",
       "        var data = []\n",
       "\n",
       "        \n",
       "        data.push({ 'state': 'California', 'population': 38041430 });\n",
       "        \n",
       "        data.push({ 'state': 'New York', 'population': 19570261 });\n",
       "        \n",
       "\n",
       "        d3.select(\"#chart_d3_interactive svg\").remove()\n",
       "\n",
       "        var margin = {top: 20, right: 20, bottom: 30, left: 40},\n",
       "            width = 800 - margin.left - margin.right,\n",
       "            height = 400 - margin.top - margin.bottom;\n",
       "\n",
       "        var x = d3.scale.ordinal()\n",
       "            .rangeRoundBands([0, width], .25);\n",
       "\n",
       "        var y = d3.scale.linear()\n",
       "            .range([height, 0]);\n",
       "\n",
       "        var xAxis = d3.svg.axis()\n",
       "            .scale(x)\n",
       "            .orient(\"bottom\");\n",
       "\n",
       "        var yAxis = d3.svg.axis()\n",
       "            .scale(y)\n",
       "            .orient(\"left\")\n",
       "            .ticks(10)\n",
       "            .tickFormat(d3.format('.1s'));\n",
       "\n",
       "        var svg = d3.select(\"#chart_d3_interactive\").append(\"svg\")\n",
       "            .attr(\"width\", width + margin.left + margin.right)\n",
       "            .attr(\"height\", height + margin.top + margin.bottom)\n",
       "            .append(\"g\")\n",
       "            .attr(\"transform\", \"translate(\" + margin.left + \",\" + margin.top + \")\");\n",
       "\n",
       "        x.domain(data.map(function(d) { return d.state; }));\n",
       "        y.domain([0, d3.max(data, function(d) { return d.population; })]);\n",
       "\n",
       "        svg.append(\"g\")\n",
       "            .attr(\"class\", \"x axis\")\n",
       "            .attr(\"transform\", \"translate(0,\" + height + \")\")\n",
       "            .call(xAxis);\n",
       "\n",
       "        svg.append(\"g\")\n",
       "            .attr(\"class\", \"y axis\")\n",
       "            .call(yAxis)\n",
       "            .append(\"text\")\n",
       "            .attr(\"transform\", \"rotate(-90)\")\n",
       "            .attr(\"y\", 6)\n",
       "            .attr(\"dy\", \".71em\")\n",
       "            .style(\"text-anchor\", \"end\")\n",
       "            .text(\"Population\");\n",
       "\n",
       "        svg.selectAll(\".bar\")\n",
       "            .data(data)\n",
       "            .enter().append(\"rect\")\n",
       "            .attr(\"class\", \"bar\")\n",
       "            .attr(\"x\", function(d) { return x(d.state); })\n",
       "            .attr(\"width\", x.rangeBand())\n",
       "            .attr(\"y\", function(d) { return y(d.population); })\n",
       "            .attr(\"height\", function(d) { return height - y(d.population); });\n",
       "    });\n",
       "    "
      ],
      "text/plain": [
       "<IPython.core.display.Javascript at 0x7f0284481cd0>"
      ]
     },
     "metadata": {},
     "output_type": "display_data"
    }
   ],
   "source": [
    "values = {\n",
    "    record['STUSAB']: \"{0} - {1}\".format(record['STUSAB'], record['STATE_NAME']) for record in state[['STUSAB', 'STATE_NAME']].sort('STUSAB').to_dict(outtype='records')\n",
    "}\n",
    "i = interact(\n",
    "    display_chart_d3,\n",
    "    data=widgets.fixed(sub_est_2012_df_by_state),\n",
    "    show_javascript=widgets.CheckboxWidget(value=False),\n",
    "    states=MultipleSelectWidget(\n",
    "        value=['CA', 'NY'],\n",
    "        values=values,\n",
    "        values_order=sorted(values.keys())\n",
    "    ),\n",
    "    div=widgets.HTMLWidget(value='<div id=\"chart_d3_interactive\"></div>')\n",
    ")"
   ]
  },
  {
   "cell_type": "markdown",
   "metadata": {
    "deletable": true,
    "editable": true
   },
   "source": [
    "We've also added a show_javascript checkbox to display the generated code on a pop-up."
   ]
  },
  {
   "cell_type": "markdown",
   "metadata": {
    "deletable": true,
    "editable": true
   },
   "source": [
    "Although D3 is capable of creating [incredible charts](https://github.com/mbostock/d3/wiki/Gallery), it has a steep learning curve and it can be overkill if what you want are just simple charts. Let us explore simpler alternatives."
   ]
  },
  {
   "cell_type": "markdown",
   "metadata": {
    "deletable": true,
    "editable": true
   },
   "source": [
    "## Part 2 - Embedding Chart.js"
   ]
  },
  {
   "cell_type": "markdown",
   "metadata": {
    "deletable": true,
    "editable": true
   },
   "source": [
    "On the previous part we used [D3.js](http://d3js.org/) to embed interactive charts onto an IPython Notebook. D3.js is an extremely flexible library capable of creating incredible charts, but it can be hard to use. If all we need is just a simple chart without much work, there are other charting libraries that can do just that.\n",
    "\n",
    "[Chart.js](http://www.chartjs.org/) is an HTML5 charting library capable of producing beautiful graphics with very little code. First we need to declare the requirement using RequireJS:"
   ]
  },
  {
   "cell_type": "code",
   "execution_count": 21,
   "metadata": {
    "collapsed": false,
    "deletable": true,
    "editable": true
   },
   "outputs": [
    {
     "data": {
      "application/javascript": [
       "require.config({\n",
       "    paths: {\n",
       "        chartjs: '//cdnjs.cloudflare.com/ajax/libs/Chart.js/0.2.0/Chart.min'\n",
       "    }\n",
       "});"
      ],
      "text/plain": [
       "<IPython.core.display.Javascript at 0x7f0285c63c50>"
      ]
     },
     "metadata": {},
     "output_type": "display_data"
    }
   ],
   "source": [
    "%%javascript\n",
    "require.config({\n",
    "    paths: {\n",
    "        chartjs: '//cdnjs.cloudflare.com/ajax/libs/Chart.js/0.2.0/Chart.min'\n",
    "    }\n",
    "});"
   ]
  },
  {
   "cell_type": "markdown",
   "metadata": {
    "deletable": true,
    "editable": true
   },
   "source": [
    "The procedure is the same as before, we define a template that will contain the rendered JavaScript code, and we use `display` to embed the code into the running page.\n",
    "\n",
    "Now we want to plot the male and female population by region, division and state. We'll use `interact` again, but this time we don't need custom widgets as we're only selecting a single item (we'll use a [DropdownWidget](http://ipython.org/ipython-doc/dev/api/generated/IPython.html.widgets.widget_selection.html#module-IPython.html.widgets.widget_selection)). We've also included the `show_javascript` checkbox."
   ]
  },
  {
   "cell_type": "markdown",
   "metadata": {
    "deletable": true,
    "editable": true
   },
   "source": [
    "### display_chart_chartjs"
   ]
  },
  {
   "cell_type": "code",
   "execution_count": 22,
   "metadata": {
    "collapsed": false,
    "deletable": true,
    "editable": true
   },
   "outputs": [],
   "source": [
    "def display_chart_chartjs(sc_est2012_sex, show_javascript, show, div):\n",
    "    sc_est2012_sex_template = jinja2.Template(\n",
    "    \"\"\"\n",
    "    require([\"chartjs\"], function() {\n",
    "        var data = {\n",
    "            labels : {{ labels }},\n",
    "            datasets : [\n",
    "            {\n",
    "                fillColor : \"rgba(220,220,220,0.5)\",\n",
    "                strokeColor : \"rgba(220,220,220,1)\",\n",
    "                data : {{ dataset_male }}\n",
    "            },\n",
    "            {\n",
    "                fillColor : \"rgba(151,187,205,0.5)\",\n",
    "                strokeColor : \"rgba(151,187,205,1)\",\n",
    "                data : {{ dataset_female }}\n",
    "            }\n",
    "            ]\n",
    "        }\n",
    "    \n",
    "    \n",
    "        var ctx = $('#chart_chartjs')[0].getContext('2d');\n",
    "        new Chart(ctx).Bar(data,{});\n",
    "    });\n",
    "    \"\"\"\n",
    "    )\n",
    "    \n",
    "    if show == 'by_region':\n",
    "        data_frame = sc_est2012_sex.groupby(['REGION', 'SEX'], as_index=False)[['POPEST2012_CIV']].sum()\n",
    "        labels = [region_codes[code] for code in data_frame['REGION'].drop_duplicates()]\n",
    "    elif show == 'by_division':\n",
    "        data_frame = sc_est2012_sex.groupby(['DIVISION', 'SEX'], as_index=False)[['POPEST2012_CIV']].sum()\n",
    "        labels = [division_codes[code] for code in data_frame['DIVISION'].drop_duplicates()]\n",
    "    elif show == 'by_state':\n",
    "        data_frame = sc_est2012_sex.groupby(['STATE', 'SEX'], as_index=False)[['POPEST2012_CIV']].sum()\n",
    "        data_frame = pd.merge(data_frame, state, left_on='STATE', right_on='STATE')\n",
    "        labels = data_frame['STATE_NAME'].drop_duplicates().tolist()\n",
    "\n",
    "    dataset_male = data_frame[data_frame.SEX == 1]['POPEST2012_CIV'].tolist()\n",
    "    dataset_female = data_frame[data_frame.SEX == 2]['POPEST2012_CIV'].tolist()\n",
    "\n",
    "    rendered_template = sc_est2012_sex_template.render(\n",
    "        labels=dumps(labels),\n",
    "        dataset_male=dumps(dataset_male),\n",
    "        dataset_female=dumps(dataset_female),\n",
    "    )\n",
    "\n",
    "    if show_javascript:\n",
    "        display(widgets.PopupWidget(children=(widgets.HTMLWidget(value='<div style=\"width:600px; height: 400px; overflow:scroll;\"><pre>{}</pre></div>'.format(rendered_template)),)))\n",
    "    \n",
    "    display(Javascript(rendered_template))"
   ]
  },
  {
   "cell_type": "code",
   "execution_count": 23,
   "metadata": {
    "collapsed": false,
    "deletable": true,
    "editable": true
   },
   "outputs": [
    {
     "data": {
      "application/javascript": [
       "\n",
       "    require([\"chartjs\"], function() {\n",
       "        var data = {\n",
       "            labels : [\"Northeast\", \"Midwest\", \"South\", \"West\"],\n",
       "            datasets : [\n",
       "            {\n",
       "                fillColor : \"rgba(220,220,220,0.5)\",\n",
       "                strokeColor : \"rgba(220,220,220,1)\",\n",
       "                data : [27076284, 33060039, 56925405, 36380620]\n",
       "            },\n",
       "            {\n",
       "                fillColor : \"rgba(151,187,205,0.5)\",\n",
       "                strokeColor : \"rgba(151,187,205,1)\",\n",
       "                data : [28620135, 34144606, 59634392, 36832556]\n",
       "            }\n",
       "            ]\n",
       "        }\n",
       "    \n",
       "    \n",
       "        var ctx = $('#chart_chartjs')[0].getContext('2d');\n",
       "        new Chart(ctx).Bar(data,{});\n",
       "    });\n",
       "    "
      ],
      "text/plain": [
       "<IPython.core.display.Javascript at 0x7f0284f40050>"
      ]
     },
     "metadata": {},
     "output_type": "display_data"
    }
   ],
   "source": [
    "i = interact(\n",
    "    display_chart_chartjs,\n",
    "    sc_est2012_sex=widgets.fixed(sc_est2012_sex),\n",
    "    show_javascript=widgets.CheckboxWidget(value=False),\n",
    "    show=widgets.DropdownWidget(\n",
    "        values={'By Region':'by_region', 'By Division': 'by_division', 'By State': 'by_state'},\n",
    "        value='by_region'\n",
    "    ),\n",
    "    div=widgets.HTMLWidget(value='<canvas width=800 height=400 id=\"chart_chartjs\"></canvas>')\n",
    ")"
   ]
  },
  {
   "cell_type": "markdown",
   "metadata": {
    "deletable": true,
    "editable": true
   },
   "source": [
    "The library generates an beautiful and simple animated column chart. There's not much in terms of customization of the Chart.js charts, but that makes it very easy to use."
   ]
  },
  {
   "cell_type": "markdown",
   "metadata": {
    "deletable": true,
    "editable": true
   },
   "source": [
    "## Part 3 - Embedding HighCharts"
   ]
  },
  {
   "cell_type": "markdown",
   "metadata": {
    "deletable": true,
    "editable": true
   },
   "source": [
    "Somewhat in between Charts.js and D3 is [HighCharts](http://www.highcharts.com/). It can produce beautiful and professional looking animated charts without much coding and it can be customized if needed. This time we'll plot the age of the population by region and division. We're going to show one data series per bucket of 20 years. Before we can begin, we need to declare the requirement:"
   ]
  },
  {
   "cell_type": "code",
   "execution_count": 24,
   "metadata": {
    "collapsed": false,
    "deletable": true,
    "editable": true
   },
   "outputs": [
    {
     "data": {
      "application/javascript": [
       "require.config({\n",
       "    paths: {\n",
       "        highcharts: '//cdnjs.cloudflare.com/ajax/libs/highcharts/4.0.1/highcharts'\n",
       "    }\n",
       "});"
      ],
      "text/plain": [
       "<IPython.core.display.Javascript at 0x7f0284ee9e90>"
      ]
     },
     "metadata": {},
     "output_type": "display_data"
    }
   ],
   "source": [
    "%%javascript\n",
    "require.config({\n",
    "    paths: {\n",
    "        highcharts: '//cdnjs.cloudflare.com/ajax/libs/highcharts/4.0.1/highcharts'\n",
    "    }\n",
    "});"
   ]
  },
  {
   "cell_type": "markdown",
   "metadata": {
    "deletable": true,
    "editable": true
   },
   "source": [
    "Then, we use the same trick with `interact`, `display` and `JavaScript`:"
   ]
  },
  {
   "cell_type": "markdown",
   "metadata": {
    "deletable": true,
    "editable": true
   },
   "source": [
    "### display_chart_highcharts"
   ]
  },
  {
   "cell_type": "code",
   "execution_count": 25,
   "metadata": {
    "collapsed": false,
    "deletable": true,
    "editable": true
   },
   "outputs": [],
   "source": [
    "def display_chart_highcharts(sc_est2012_age, show_javascript, show, div):\n",
    "    sc_est2012_age_template = jinja2.Template(\n",
    "    \"\"\"\n",
    "    require([\"highcharts\"], function() {\n",
    "        $('#chart_highcharts').highcharts({\n",
    "            chart: {\n",
    "                type: 'column'\n",
    "            },\n",
    "            title: {\n",
    "                text: 'Population By Age'\n",
    "            },\n",
    "            subtitle: {\n",
    "                text: 'Source: www.census.gov'\n",
    "            },\n",
    "            xAxis: {\n",
    "                categories: {{ categories }}\n",
    "            },\n",
    "            yAxis: {\n",
    "                min: 0,\n",
    "                title: {\n",
    "                    text: 'Population'\n",
    "                }\n",
    "            },\n",
    "            plotOptions: {\n",
    "                column: {\n",
    "                    pointPadding: 0.2,\n",
    "                    borderWidth: 0\n",
    "                }\n",
    "            },\n",
    "            series: {{ series }}\n",
    "        });\n",
    "    });\n",
    "    \"\"\"\n",
    "    )\n",
    "    \n",
    "    if show == 'by_region':\n",
    "        data_frame = sc_est2012_age.groupby(['REGION', 'AGE'], as_index=False)[['POPEST2012_CIV']].sum()\n",
    "        categories = [region_codes[code] for code in data_frame['REGION'].drop_duplicates()]\n",
    "    elif show == 'by_division':\n",
    "        data_frame = sc_est2012_age.groupby(['DIVISION', 'AGE'], as_index=False)[['POPEST2012_CIV']].sum()\n",
    "        categories = [division_codes[code] for code in data_frame['DIVISION'].drop_duplicates()]\n",
    "        \n",
    "    series_names = data_frame['AGE'].drop_duplicates().tolist()\n",
    "    series = [{\n",
    "        'name': series_name, 'data': data_frame[data_frame.AGE == series_name]['POPEST2012_CIV'].tolist()\n",
    "    } for series_name in series_names]\n",
    "    \n",
    "    rendered_template = sc_est2012_age_template.render(\n",
    "        categories=dumps(categories),\n",
    "        series=dumps(series)\n",
    "    )\n",
    "\n",
    "    if show_javascript:\n",
    "        display(widgets.PopupWidget(children=(widgets.HTMLWidget(value='<div style=\"width:600px; height: 400px; overflow:scroll;\"><pre>{}</pre></div>'.format(rendered_template)),)))\n",
    "\n",
    "    display(Javascript(rendered_template))"
   ]
  },
  {
   "cell_type": "code",
   "execution_count": 26,
   "metadata": {
    "collapsed": false,
    "deletable": true,
    "editable": true
   },
   "outputs": [
    {
     "data": {
      "application/javascript": [
       "\n",
       "    require([\"highcharts\"], function() {\n",
       "        $('#chart_highcharts').highcharts({\n",
       "            chart: {\n",
       "                type: 'column'\n",
       "            },\n",
       "            title: {\n",
       "                text: 'Population By Age'\n",
       "            },\n",
       "            subtitle: {\n",
       "                text: 'Source: www.census.gov'\n",
       "            },\n",
       "            xAxis: {\n",
       "                categories: [\"Northeast\", \"Midwest\", \"South\", \"West\"]\n",
       "            },\n",
       "            yAxis: {\n",
       "                min: 0,\n",
       "                title: {\n",
       "                    text: 'Population'\n",
       "                }\n",
       "            },\n",
       "            plotOptions: {\n",
       "                column: {\n",
       "                    pointPadding: 0.2,\n",
       "                    borderWidth: 0\n",
       "                }\n",
       "            },\n",
       "            series: [{\"data\": [13874963, 17925144, 31215619, 19964340], \"name\": \"(0, 20]\"}, {\"data\": [14383476, 17232139, 30992802, 20344293], \"name\": \"(20, 40]\"}, {\"data\": [15992349, 18627722, 31522703, 19442205], \"name\": \"(40, 60]\"}, {\"data\": [8632705, 10171969, 17732900, 10288910], \"name\": \"(60, 80]\"}]\n",
       "        });\n",
       "    });\n",
       "    "
      ],
      "text/plain": [
       "<IPython.core.display.Javascript at 0x7f0285c72050>"
      ]
     },
     "metadata": {},
     "output_type": "display_data"
    }
   ],
   "source": [
    "i = interact(\n",
    "    display_chart_highcharts,\n",
    "    sc_est2012_age=widgets.fixed(sc_est2012_age),\n",
    "    show_javascript=widgets.CheckboxWidget(value=False),\n",
    "    show=widgets.DropdownWidget(\n",
    "        values={'By Region':'by_region', 'By Division': 'by_division'},\n",
    "        value='by_region'\n",
    "    ),\n",
    "    div=widgets.HTMLWidget(value='<div id=\"chart_highcharts\"></div>')\n",
    ")"
   ]
  },
  {
   "cell_type": "markdown",
   "metadata": {
    "deletable": true,
    "editable": true
   },
   "source": [
    "## Conclusions"
   ]
  },
  {
   "cell_type": "markdown",
   "metadata": {
    "deletable": true,
    "editable": true
   },
   "source": [
    "We showed you how to integrate three popular JavaScript charting solutions within an IPython Notebook, and how to make them interactive using HTML widgets. Following this pattern it is quite easy to integrate other libraries like [Google Charts](https://developers.google.com/chart/) (it's trivial using the [goog](https://github.com/millermedeiros/requirejs-plugins) RequireJS plugins), [AmCharts](http://www.amcharts.com/) or [JqPlot](http://www.jqplot.com/)."
   ]
  },
  {
   "cell_type": "markdown",
   "metadata": {
    "deletable": true,
    "editable": true
   },
   "source": [
    "We also used a little bit of Pandas magic to arrange the data to fit our needs."
   ]
  },
  {
   "cell_type": "code",
   "execution_count": null,
   "metadata": {
    "collapsed": false,
    "deletable": true,
    "editable": true
   },
   "outputs": [],
   "source": []
  }
 ],
 "metadata": {
  "kernelspec": {
   "display_name": "Python 3",
   "language": "python",
   "name": "python3"
  },
  "language_info": {
   "codemirror_mode": {
    "name": "ipython",
    "version": 3
   },
   "file_extension": ".py",
   "mimetype": "text/x-python",
   "name": "python",
   "nbconvert_exporter": "python",
   "pygments_lexer": "ipython3",
   "version": "3.5.2"
  }
 },
 "nbformat": 4,
 "nbformat_minor": 0
}
