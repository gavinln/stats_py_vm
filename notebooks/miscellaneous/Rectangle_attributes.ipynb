{
 "metadata": {
  "name": "",
  "signature": "sha256:d69c575c93116a805799d0ae28858f694b9b487a3e06d33b9feb705c47942374"
 },
 "nbformat": 3,
 "nbformat_minor": 0,
 "worksheets": [
  {
   "cells": [
    {
     "cell_type": "markdown",
     "metadata": {},
     "source": [
      "This notebook demonstrates how to create a Python module that is easy to use from IPython"
     ]
    },
    {
     "cell_type": "code",
     "collapsed": false,
     "input": [
      "import rectangle"
     ],
     "language": "python",
     "metadata": {},
     "outputs": [],
     "prompt_number": 1
    },
    {
     "cell_type": "markdown",
     "metadata": {},
     "source": [
      "Display the source code"
     ]
    },
    {
     "cell_type": "code",
     "collapsed": false,
     "input": [
      "%psource rectangle"
     ],
     "language": "python",
     "metadata": {},
     "outputs": [],
     "prompt_number": 2
    },
    {
     "cell_type": "code",
     "collapsed": true,
     "input": [
      "help(rectangle)"
     ],
     "language": "python",
     "metadata": {},
     "outputs": [
      {
       "output_type": "stream",
       "stream": "stdout",
       "text": [
        "Help on module rectangle:\n",
        "\n",
        "NAME\n",
        "    rectangle - Demonstrates how to use attributes in Python\n",
        "\n",
        "FILE\n",
        "    /vagrant/python/rectangle.py\n",
        "\n",
        "CLASSES\n",
        "    __builtin__.object\n",
        "        Point\n",
        "        Rectangle\n",
        "    \n",
        "    class Point(__builtin__.object)\n",
        "     |  Methods defined here:\n",
        "     |  \n",
        "     |  __init__(self)\n",
        "     |  \n",
        "     |  __str__(self)\n",
        "     |  \n",
        "     |  ----------------------------------------------------------------------\n",
        "     |  Data descriptors defined here:\n",
        "     |  \n",
        "     |  __dict__\n",
        "     |      dictionary for instance variables (if defined)\n",
        "     |  \n",
        "     |  __weakref__\n",
        "     |      list of weak references to the object (if defined)\n",
        "     |  \n",
        "     |  x\n",
        "     |      x coordinate of the point\n",
        "     |  \n",
        "     |  y\n",
        "     |      y coordinate of the point\n",
        "    \n",
        "    class Rectangle(__builtin__.object)\n",
        "     |  Methods defined here:\n",
        "     |  \n",
        "     |  __init__(self)\n",
        "     |  \n",
        "     |  getArea(self)\n",
        "     |      computes the area of the rectangle\n",
        "     |  \n",
        "     |  ----------------------------------------------------------------------\n",
        "     |  Data descriptors defined here:\n",
        "     |  \n",
        "     |  __dict__\n",
        "     |      dictionary for instance variables (if defined)\n",
        "     |  \n",
        "     |  __weakref__\n",
        "     |      list of weak references to the object (if defined)\n",
        "     |  \n",
        "     |  bottomRight\n",
        "     |      The bottom-right corner of a rectangle\n",
        "     |      See topLeft for how to get and set values\n",
        "     |  \n",
        "     |  topLeft\n",
        "     |      The top-left corner of a rectangle\n",
        "     |      \n",
        "     |      >>> r = Rectangle() # create a rectangle\n",
        "     |      >>> r.topLeft = 3 # both x and y are set to 3\n",
        "     |      >>> r.topLeft.x\n",
        "     |      3\n",
        "     |      >>> r.topLeft.y\n",
        "     |      3\n",
        "     |      >>> r.topLeft.x = 4; r.topLeft.y = 5 # set individually\n",
        "     |      >>> r.topLeft.x\n",
        "     |      4\n",
        "     |      >>> r.topLeft.y\n",
        "     |      5\n",
        "     |      >>> print r.topLeft\n",
        "     |      Point(4, 5)\n",
        "\n",
        "FUNCTIONS\n",
        "    main()\n",
        "\n",
        "\n"
       ]
      }
     ],
     "prompt_number": 3
    },
    {
     "cell_type": "code",
     "collapsed": false,
     "input": [
      "r = rectangle.Rectangle()"
     ],
     "language": "python",
     "metadata": {},
     "outputs": [],
     "prompt_number": 4
    },
    {
     "cell_type": "markdown",
     "metadata": {},
     "source": [
      "Convenience function that sets point x and y coordinates"
     ]
    },
    {
     "cell_type": "code",
     "collapsed": false,
     "input": [
      "r.topLeft = 3"
     ],
     "language": "python",
     "metadata": {},
     "outputs": [],
     "prompt_number": 5
    },
    {
     "cell_type": "markdown",
     "metadata": {},
     "source": [
      "Display the top left point"
     ]
    },
    {
     "cell_type": "code",
     "collapsed": false,
     "input": [
      "print r.topLeft"
     ],
     "language": "python",
     "metadata": {},
     "outputs": [
      {
       "output_type": "stream",
       "stream": "stdout",
       "text": [
        "Point(3, 3)\n"
       ]
      }
     ],
     "prompt_number": 6
    },
    {
     "cell_type": "markdown",
     "metadata": {},
     "source": [
      "Print individual components of a point"
     ]
    },
    {
     "cell_type": "code",
     "collapsed": false,
     "input": [
      "print r.topLeft.x, r.topLeft.y"
     ],
     "language": "python",
     "metadata": {},
     "outputs": [
      {
       "output_type": "stream",
       "stream": "stdout",
       "text": [
        "3 3\n"
       ]
      }
     ],
     "prompt_number": 7
    },
    {
     "cell_type": "markdown",
     "metadata": {},
     "source": [
      "Set each individual component independently"
     ]
    },
    {
     "cell_type": "code",
     "collapsed": false,
     "input": [
      "r.topLeft.x = 4; r.topLeft.y = 5"
     ],
     "language": "python",
     "metadata": {},
     "outputs": [],
     "prompt_number": 8
    },
    {
     "cell_type": "code",
     "collapsed": false,
     "input": [
      "print r.topLeft"
     ],
     "language": "python",
     "metadata": {},
     "outputs": [
      {
       "output_type": "stream",
       "stream": "stdout",
       "text": [
        "Point(4, 5)\n"
       ]
      }
     ],
     "prompt_number": 9
    },
    {
     "cell_type": "markdown",
     "metadata": {},
     "source": [
      "Get help on an property"
     ]
    },
    {
     "cell_type": "code",
     "collapsed": false,
     "input": [
      "r.topLeft?"
     ],
     "language": "python",
     "metadata": {},
     "outputs": [],
     "prompt_number": 10
    },
    {
     "cell_type": "markdown",
     "metadata": {},
     "source": [
      "Get help on a function"
     ]
    },
    {
     "cell_type": "code",
     "collapsed": false,
     "input": [
      "r.getArea?"
     ],
     "language": "python",
     "metadata": {},
     "outputs": [],
     "prompt_number": 11
    },
    {
     "cell_type": "markdown",
     "metadata": {},
     "source": [
      "Get help on a module"
     ]
    },
    {
     "cell_type": "code",
     "collapsed": false,
     "input": [
      "rectangle?"
     ],
     "language": "python",
     "metadata": {},
     "outputs": [],
     "prompt_number": 12
    },
    {
     "cell_type": "markdown",
     "metadata": {},
     "source": [
      "Get detailed help on a module including the source code"
     ]
    },
    {
     "cell_type": "code",
     "collapsed": false,
     "input": [
      "rectangle??"
     ],
     "language": "python",
     "metadata": {},
     "outputs": [],
     "prompt_number": 13
    },
    {
     "cell_type": "code",
     "collapsed": false,
     "input": [],
     "language": "python",
     "metadata": {},
     "outputs": []
    }
   ],
   "metadata": {}
  }
 ]
}