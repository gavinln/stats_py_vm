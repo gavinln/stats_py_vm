{
 "metadata": {
  "name": ""
 },
 "nbformat": 3,
 "nbformat_minor": 0,
 "worksheets": [
  {
   "cells": [
    {
     "cell_type": "markdown",
     "metadata": {},
     "source": [
      "There are multiple libraries available for XML processing with Python. The use of three libraries are demonstrated in this document"
     ]
    },
    {
     "cell_type": "markdown",
     "metadata": {},
     "source": [
      "# untangle"
     ]
    },
    {
     "cell_type": "markdown",
     "metadata": {},
     "source": [
      "This is one of the simplest XML processing libraries in Python. However it is not able to handle very complex XML documents. Also, it's performance may not match some of the other XML libraries. This library is not automatically installed with Python but has to be downloaded separately"
     ]
    },
    {
     "cell_type": "code",
     "collapsed": false,
     "input": [
      "import untangle"
     ],
     "language": "python",
     "metadata": {},
     "outputs": [],
     "prompt_number": 1
    },
    {
     "cell_type": "markdown",
     "metadata": {},
     "source": [
      "Display the xml in the noteook"
     ]
    },
    {
     "cell_type": "code",
     "collapsed": false,
     "input": [
      "%load slides.xml"
     ],
     "language": "python",
     "metadata": {},
     "outputs": [],
     "prompt_number": 2
    },
    {
     "cell_type": "code",
     "collapsed": false,
     "input": [
      "<?xml version='1.0' encoding='us-ascii'?>\n",
      "\n",
      "<!--  A SAMPLE set of slides  -->\n",
      "\n",
      "<slideshow\n",
      "    title=\"Sample Slide Show\"\n",
      "    date=\"Date of publication\"\n",
      "    author=\"Yours Truly\"\n",
      "    >\n",
      "\n",
      "    <!-- TITLE SLIDE -->\n",
      "    <slide type=\"all\">\n",
      "      <title>Wake up to WonderWidgets!</title>\n",
      "    </slide>\n",
      "\n",
      "    <!-- OVERVIEW -->\n",
      "    <slide type=\"all\">\n",
      "        <title>Overview</title>\n",
      "        <item>Why <em>WonderWidgets</em> are great</item>\n",
      "        <item/>\n",
      "        <item>Who <em>buys</em> WonderWidgets</item>\n",
      "    </slide>\n",
      "\n",
      "</slideshow>\n"
     ],
     "language": "python",
     "metadata": {},
     "outputs": []
    },
    {
     "cell_type": "code",
     "collapsed": false,
     "input": [
      "<?xml version='1.0' encoding='us-ascii'?>\n",
      "\n",
      "<!--  A SAMPLE set of slides  -->\n",
      "\n",
      "<slideshow\n",
      "    title=\"Sample Slide Show\"\n",
      "    date=\"Date of publication\"\n",
      "    author=\"Yours Truly\"\n",
      "    >\n",
      "\n",
      "    <!-- TITLE SLIDE -->\n",
      "    <slide type=\"all\">\n",
      "      <title>Wake up to WonderWidgets!</title>\n",
      "    </slide>\n",
      "\n",
      "    <!-- OVERVIEW -->\n",
      "    <slide type=\"all\">\n",
      "        <title>Overview</title>\n",
      "        <item>Why <em>WonderWidgets</em> are great</item>\n",
      "        <item/>\n",
      "        <item>Who <em>buys</em> WonderWidgets</item>\n",
      "    </slide>\n",
      "\n",
      "</slideshow>\n"
     ],
     "language": "python",
     "metadata": {},
     "outputs": [
      {
       "ename": "SyntaxError",
       "evalue": "invalid syntax (<ipython-input-3-20e89839cace>, line 1)",
       "output_type": "pyerr",
       "traceback": [
        "\u001b[1;36m  File \u001b[1;32m\"<ipython-input-3-20e89839cace>\"\u001b[1;36m, line \u001b[1;32m1\u001b[0m\n\u001b[1;33m    <?xml version='1.0' encoding='us-ascii'?>\u001b[0m\n\u001b[1;37m    ^\u001b[0m\n\u001b[1;31mSyntaxError\u001b[0m\u001b[1;31m:\u001b[0m invalid syntax\n"
       ]
      }
     ],
     "prompt_number": 3
    },
    {
     "cell_type": "markdown",
     "metadata": {},
     "source": [
      "Parse the xml using the untangle library"
     ]
    },
    {
     "cell_type": "code",
     "collapsed": false,
     "input": [
      "doc = untangle.parse(\"slides.xml\")"
     ],
     "language": "python",
     "metadata": {},
     "outputs": [],
     "prompt_number": 4
    },
    {
     "cell_type": "markdown",
     "metadata": {},
     "source": [
      "Access the root element"
     ]
    },
    {
     "cell_type": "code",
     "collapsed": false,
     "input": [
      "doc.slideshow"
     ],
     "language": "python",
     "metadata": {},
     "outputs": [
      {
       "metadata": {},
       "output_type": "pyout",
       "prompt_number": 5,
       "text": [
        "Element(name = slideshow, attributes = {u'date': u'Date of publication', u'title': u'Sample Slide Show', u'author': u'Yours Truly'}, cdata = \n",
        "\n",
        "    \n",
        "    \n",
        "\n",
        "    \n",
        "    \n",
        "\n",
        ")"
       ]
      }
     ],
     "prompt_number": 5
    },
    {
     "cell_type": "markdown",
     "metadata": {},
     "source": [
      "Display the number of child elements"
     ]
    },
    {
     "cell_type": "code",
     "collapsed": false,
     "input": [
      "len(doc.slideshow.slide)"
     ],
     "language": "python",
     "metadata": {},
     "outputs": [
      {
       "latex": [
        "$$2$$"
       ],
       "metadata": {},
       "output_type": "pyout",
       "png": "[encoded data removed]",
       "prompt_number": 6,
       "text": [
        "2"
       ]
      }
     ],
     "prompt_number": 6
    },
    {
     "cell_type": "markdown",
     "metadata": {},
     "source": [
      "Access each child element"
     ]
    },
    {
     "cell_type": "code",
     "collapsed": false,
     "input": [
      "doc.slideshow.slide[0], doc.slideshow.slide[1]"
     ],
     "language": "python",
     "metadata": {},
     "outputs": [
      {
       "metadata": {},
       "output_type": "pyout",
       "prompt_number": 7,
       "text": [
        "(Element(name = slide, attributes = {u'type': u'all'}, cdata = \n",
        "      \n",
        "    ),\n",
        " Element(name = slide, attributes = {u'type': u'all'}, cdata = \n",
        "        \n",
        "        \n",
        "        \n",
        "        \n",
        "    ))"
       ]
      }
     ],
     "prompt_number": 7
    },
    {
     "cell_type": "markdown",
     "metadata": {},
     "source": [
      "Access the attributes"
     ]
    },
    {
     "cell_type": "code",
     "collapsed": false,
     "input": [
      "doc.slideshow['title']"
     ],
     "language": "python",
     "metadata": {},
     "outputs": [
      {
       "metadata": {},
       "output_type": "pyout",
       "prompt_number": 8,
       "text": [
        "u'Sample Slide Show'"
       ]
      }
     ],
     "prompt_number": 8
    },
    {
     "cell_type": "code",
     "collapsed": false,
     "input": [
      "doc.slideshow.slide[0]['type'], doc.slideshow.slide[1]['type']"
     ],
     "language": "python",
     "metadata": {},
     "outputs": [
      {
       "metadata": {},
       "output_type": "pyout",
       "prompt_number": 9,
       "text": [
        "(u'all', u'all')"
       ]
      }
     ],
     "prompt_number": 9
    },
    {
     "cell_type": "markdown",
     "metadata": {},
     "source": [
      "# ElementTree"
     ]
    },
    {
     "cell_type": "markdown",
     "metadata": {},
     "source": [
      "This library is built into Python and comes installed. It is more complex to use than tangle."
     ]
    },
    {
     "cell_type": "code",
     "collapsed": false,
     "input": [
      "from xml.etree import ElementTree"
     ],
     "language": "python",
     "metadata": {},
     "outputs": [],
     "prompt_number": 10
    },
    {
     "cell_type": "code",
     "collapsed": false,
     "input": [
      "doc.slideshow.slide"
     ],
     "language": "python",
     "metadata": {},
     "outputs": [
      {
       "metadata": {},
       "output_type": "pyout",
       "prompt_number": 11,
       "text": [
        "[Element(name = slide, attributes = {u'type': u'all'}, cdata = \n",
        "      \n",
        "    ),\n",
        " Element(name = slide, attributes = {u'type': u'all'}, cdata = \n",
        "        \n",
        "        \n",
        "        \n",
        "        \n",
        "    )]"
       ]
      }
     ],
     "prompt_number": 11
    },
    {
     "cell_type": "code",
     "collapsed": false,
     "input": [
      "type(doc.slideshow.slide)"
     ],
     "language": "python",
     "metadata": {},
     "outputs": [
      {
       "metadata": {},
       "output_type": "pyout",
       "prompt_number": 12,
       "text": [
        "list"
       ]
      }
     ],
     "prompt_number": 12
    },
    {
     "cell_type": "code",
     "collapsed": false,
     "input": [],
     "language": "python",
     "metadata": {},
     "outputs": [],
     "prompt_number": 12
    }
   ],
   "metadata": {}
  }
 ]
}