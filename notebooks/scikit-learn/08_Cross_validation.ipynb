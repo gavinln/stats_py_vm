{
 "cells": [
  {
   "cell_type": "markdown",
   "metadata": {
    "collapsed": true
   },
   "source": [
    "# Cross validation"
   ]
  },
  {
   "cell_type": "markdown",
   "metadata": {},
   "source": [
    "Useful links\n",
    "* http://scikit-learn.org/stable/modules/cross_validation.html\n",
    "* http://scikit-learn.org/stable/modules/model_evaluation.html#scoring-parameter"
   ]
  },
  {
   "cell_type": "code",
   "execution_count": 11,
   "metadata": {
    "collapsed": true
   },
   "outputs": [],
   "source": [
    "import sklearn\n",
    "from sklearn import cross_validation\n",
    "import pandas as pd"
   ]
  },
  {
   "cell_type": "code",
   "execution_count": 12,
   "metadata": {
    "collapsed": true
   },
   "outputs": [],
   "source": [
    "from sklearn.datasets import load_breast_cancer\n",
    "dataset = load_breast_cancer()"
   ]
  },
  {
   "cell_type": "code",
   "execution_count": 13,
   "metadata": {
    "collapsed": false
   },
   "outputs": [],
   "source": [
    "target = pd.Series(dataset.target, dtype='category')\n",
    "target.cat.rename_categories(['malignant', 'benign'], inplace=True)"
   ]
  },
  {
   "cell_type": "code",
   "execution_count": 14,
   "metadata": {
    "collapsed": false
   },
   "outputs": [],
   "source": [
    "column_names = [\n",
    "    'radius', 'texture', 'perimeter', 'area',\n",
    "    'smoothness', 'compactness', 'concavity', 'concave_points',\n",
    "    'symmetry', 'fractal_dimension']\n",
    "df = pd.DataFrame(data=dataset.data[:, :10], columns=column_names)"
   ]
  },
  {
   "cell_type": "code",
   "execution_count": 15,
   "metadata": {
    "collapsed": true
   },
   "outputs": [],
   "source": [
    "from sklearn.metrics import accuracy_score\n",
    "from sklearn.metrics import precision_score\n",
    "from sklearn.metrics import recall_score\n",
    "\n",
    "def get_metrics(clf, data, target, name):\n",
    "    accuracy_scores = cross_validation.cross_val_score(\n",
    "        clf, data, target, cv=5, scoring='accuracy')\n",
    "    precision_scores = cross_validation.cross_val_score(\n",
    "        clf, data, target, cv=5, scoring='precision')\n",
    "    recall_scores = cross_validation.cross_val_score(\n",
    "        clf, data, target, cv=5, scoring='recall')    \n",
    "    return {\n",
    "        'classifier': name,\n",
    "        'accuracy': accuracy_scores.mean(),\n",
    "        'precision': precision_scores.mean(),\n",
    "        'recall': recall_scores.mean()\n",
    "    }"
   ]
  },
  {
   "cell_type": "code",
   "execution_count": 16,
   "metadata": {
    "collapsed": false
   },
   "outputs": [],
   "source": [
    "from sklearn import linear_model\n",
    "# C is the inverse of regularization parameter (smaller values specify strong regularization)\n",
    "logreg = linear_model.LogisticRegression(C=1e5)\n",
    "result1 = get_metrics(logreg, df.values, dataset.target, 'logistic regression')"
   ]
  },
  {
   "cell_type": "code",
   "execution_count": 17,
   "metadata": {
    "collapsed": false
   },
   "outputs": [],
   "source": [
    "from sklearn.svm import SVC\n",
    "clf = SVC(kernel='rbf')\n",
    "result2 = get_metrics(clf, df.values, dataset.target, 'support vector (radial basis)')"
   ]
  },
  {
   "cell_type": "code",
   "execution_count": 24,
   "metadata": {
    "collapsed": false
   },
   "outputs": [],
   "source": [
    "from sklearn import tree\n",
    "clf = tree.DecisionTreeClassifier(max_depth=10)\n",
    "result3 = get_metrics(clf, df.values, dataset.target, 'decision tree')"
   ]
  },
  {
   "cell_type": "code",
   "execution_count": 25,
   "metadata": {
    "collapsed": false
   },
   "outputs": [],
   "source": [
    "from sklearn.ensemble import RandomForestClassifier\n",
    "clf = RandomForestClassifier(n_estimators=50)\n",
    "result4 = get_metrics(clf, df.values, dataset.target, 'random forest')"
   ]
  },
  {
   "cell_type": "code",
   "execution_count": 26,
   "metadata": {
    "collapsed": false
   },
   "outputs": [
    {
     "data": {
      "text/html": [
       "<div>\n",
       "<table border=\"1\" class=\"dataframe\">\n",
       "  <thead>\n",
       "    <tr style=\"text-align: right;\">\n",
       "      <th></th>\n",
       "      <th>classifier</th>\n",
       "      <th>accuracy</th>\n",
       "      <th>precision</th>\n",
       "      <th>recall</th>\n",
       "    </tr>\n",
       "  </thead>\n",
       "  <tbody>\n",
       "    <tr>\n",
       "      <th>0</th>\n",
       "      <td>logistic regression</td>\n",
       "      <td>0.926310</td>\n",
       "      <td>0.939899</td>\n",
       "      <td>0.943975</td>\n",
       "    </tr>\n",
       "    <tr>\n",
       "      <th>1</th>\n",
       "      <td>support vector (radial basis)</td>\n",
       "      <td>0.717045</td>\n",
       "      <td>0.704226</td>\n",
       "      <td>0.946674</td>\n",
       "    </tr>\n",
       "    <tr>\n",
       "      <th>2</th>\n",
       "      <td>decision tree</td>\n",
       "      <td>0.917491</td>\n",
       "      <td>0.936985</td>\n",
       "      <td>0.941158</td>\n",
       "    </tr>\n",
       "    <tr>\n",
       "      <th>3</th>\n",
       "      <td>random forest</td>\n",
       "      <td>0.947457</td>\n",
       "      <td>0.958679</td>\n",
       "      <td>0.966393</td>\n",
       "    </tr>\n",
       "  </tbody>\n",
       "</table>\n",
       "</div>"
      ],
      "text/plain": [
       "                      classifier  accuracy  precision    recall\n",
       "0            logistic regression  0.926310   0.939899  0.943975\n",
       "1  support vector (radial basis)  0.717045   0.704226  0.946674\n",
       "2                  decision tree  0.917491   0.936985  0.941158\n",
       "3                  random forest  0.947457   0.958679  0.966393"
      ]
     },
     "execution_count": 26,
     "metadata": {},
     "output_type": "execute_result"
    }
   ],
   "source": [
    "pd.DataFrame([result1, result2, result3, result4], columns=['classifier', 'accuracy', 'precision', 'recall'])"
   ]
  },
  {
   "cell_type": "code",
   "execution_count": null,
   "metadata": {
    "collapsed": true
   },
   "outputs": [],
   "source": []
  }
 ],
 "metadata": {
  "kernelspec": {
   "display_name": "Python 2",
   "language": "python",
   "name": "python2"
  },
  "language_info": {
   "codemirror_mode": {
    "name": "ipython",
    "version": 2
   },
   "file_extension": ".py",
   "mimetype": "text/x-python",
   "name": "python",
   "nbconvert_exporter": "python",
   "pygments_lexer": "ipython2",
   "version": "2.7.6"
  }
 },
 "nbformat": 4,
 "nbformat_minor": 0
}
