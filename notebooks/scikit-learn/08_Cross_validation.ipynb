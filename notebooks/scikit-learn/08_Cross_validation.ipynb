{
 "cells": [
  {
   "cell_type": "markdown",
   "metadata": {
    "collapsed": true
   },
   "source": [
    "# Cross validation"
   ]
  },
  {
   "cell_type": "markdown",
   "metadata": {},
   "source": [
    "Cross-validation is a technique used to assess how a statistical analysis will generalize to an independent data set.\n",
    "\n",
    "When creating a predictive model, the model is trained using a dataset called the training dataset. The accuracy of the trained model is then tested on another unknown dataset called the testing dataset. The process is called cross-validation."
   ]
  },
  {
   "cell_type": "markdown",
   "metadata": {},
   "source": [
    "Useful links\n",
    "* https://en.wikipedia.org/wiki/Cross-validation_%28statistics%29\n",
    "* http://scikit-learn.org/stable/modules/cross_validation.html\n",
    "* http://scikit-learn.org/stable/modules/model_evaluation.html#scoring-parameter\n",
    "* https://en.wikipedia.org/wiki/F1_score"
   ]
  },
  {
   "cell_type": "code",
   "execution_count": 35,
   "metadata": {
    "collapsed": true
   },
   "outputs": [],
   "source": [
    "import sklearn\n",
    "from sklearn import cross_validation\n",
    "import pandas as pd"
   ]
  },
  {
   "cell_type": "markdown",
   "metadata": {},
   "source": [
    "Scikit learn makes it easy to use multiple methods for cross validation. A basic approach is called k-fold cross validation. The dataset is split into k smaller sets, where 1 of the sets is used to validate the model while the remaining are used to train the model. The peformance measures reported by the k-fold cross-validations are the average of the values computed by choosing a different set for the cross-validation and using the remaining for training."
   ]
  },
  {
   "cell_type": "code",
   "execution_count": 36,
   "metadata": {
    "collapsed": true
   },
   "outputs": [],
   "source": [
    "from sklearn.datasets import load_breast_cancer\n",
    "dataset = load_breast_cancer()"
   ]
  },
  {
   "cell_type": "markdown",
   "metadata": {},
   "source": [
    "The \"Wisconsin Breast Cancer\" dataset is used to demonstrate cross-validation."
   ]
  },
  {
   "cell_type": "code",
   "execution_count": 37,
   "metadata": {
    "collapsed": false
   },
   "outputs": [],
   "source": [
    "target = pd.Series(dataset.target, dtype='category')\n",
    "target.cat.rename_categories(['malignant', 'benign'], inplace=True)"
   ]
  },
  {
   "cell_type": "markdown",
   "metadata": {},
   "source": [
    "This data set has 569 samples of which 357 are benign and 212 are malignant. Ten factors are used to predict breast cancer."
   ]
  },
  {
   "cell_type": "code",
   "execution_count": 38,
   "metadata": {
    "collapsed": false
   },
   "outputs": [],
   "source": [
    "column_names = [\n",
    "    'radius', 'texture', 'perimeter', 'area',\n",
    "    'smoothness', 'compactness', 'concavity', 'concave_points',\n",
    "    'symmetry', 'fractal_dimension']\n",
    "df = pd.DataFrame(data=dataset.data[:, :10], columns=column_names)"
   ]
  },
  {
   "cell_type": "markdown",
   "metadata": {},
   "source": [
    "In addition to precision and recall, the F1 score is calculated. The F1 score is the harmonic mean and equally weights precision and recall. A F1 score reaches its highest value at 1 and lowest value at 0."
   ]
  },
  {
   "cell_type": "markdown",
   "metadata": {},
   "source": [
    "$F1 = 2 * (precision * recall) / (precision + recall)$"
   ]
  },
  {
   "cell_type": "code",
   "execution_count": 39,
   "metadata": {
    "collapsed": true
   },
   "outputs": [],
   "source": [
    "from sklearn.metrics import accuracy_score\n",
    "from sklearn.metrics import precision_score\n",
    "from sklearn.metrics import recall_score\n",
    "from sklearn.metrics import f1_score\n",
    "\n",
    "def get_metrics(clf, data, target, name):\n",
    "    predicted = cross_validation.cross_val_predict(clf, data, target, cv=5)\n",
    "    accuracy_scores = accuracy_score(target, predicted)\n",
    "    precision_scores = precision_score(target, predicted)\n",
    "    recall_scores = recall_score(target, predicted)\n",
    "    f1_scores = f1_score(target, predicted)\n",
    "    return {\n",
    "        'classifier': name,\n",
    "        'accuracy': accuracy_scores.mean(),\n",
    "        'precision': precision_scores.mean(),\n",
    "        'recall': recall_scores.mean(),\n",
    "        'f1_score': f1_scores.mean()\n",
    "    }"
   ]
  },
  {
   "cell_type": "code",
   "execution_count": 40,
   "metadata": {
    "collapsed": false
   },
   "outputs": [],
   "source": [
    "from sklearn import linear_model\n",
    "# C is the inverse of regularization parameter (smaller values specify strong regularization)\n",
    "logreg = linear_model.LogisticRegression(C=1e5)\n",
    "result1a = get_metrics(logreg, df.values, dataset.target, 'logistic regression')"
   ]
  },
  {
   "cell_type": "code",
   "execution_count": 41,
   "metadata": {
    "collapsed": false
   },
   "outputs": [],
   "source": [
    "from sklearn.svm import SVC\n",
    "clf = SVC(kernel='rbf')\n",
    "result2a = get_metrics(clf, df.values, dataset.target, 'support vector (radial basis)')"
   ]
  },
  {
   "cell_type": "code",
   "execution_count": 42,
   "metadata": {
    "collapsed": false
   },
   "outputs": [],
   "source": [
    "from sklearn import tree\n",
    "clf = tree.DecisionTreeClassifier(max_depth=10)\n",
    "result3a = get_metrics(clf, df.values, dataset.target, 'decision tree')"
   ]
  },
  {
   "cell_type": "code",
   "execution_count": 43,
   "metadata": {
    "collapsed": false
   },
   "outputs": [],
   "source": [
    "from sklearn.ensemble import RandomForestClassifier\n",
    "clf = RandomForestClassifier(n_estimators=50)\n",
    "result4a = get_metrics(clf, df.values, dataset.target, 'random forest')"
   ]
  },
  {
   "cell_type": "markdown",
   "metadata": {},
   "source": [
    "The four classifiers: logistic regression, support vector, decision tree and random forests are compared on the cross-validation scores. They perform much worse on the test dataset as compared to the training dataset. Compare the results with those in the previous post."
   ]
  },
  {
   "cell_type": "code",
   "execution_count": 44,
   "metadata": {
    "collapsed": false
   },
   "outputs": [
    {
     "data": {
      "text/html": [
       "<div>\n",
       "<table border=\"1\" class=\"dataframe\">\n",
       "  <thead>\n",
       "    <tr style=\"text-align: right;\">\n",
       "      <th></th>\n",
       "      <th>classifier</th>\n",
       "      <th>accuracy</th>\n",
       "      <th>precision</th>\n",
       "      <th>recall</th>\n",
       "      <th>f1_score</th>\n",
       "    </tr>\n",
       "  </thead>\n",
       "  <tbody>\n",
       "    <tr>\n",
       "      <th>0</th>\n",
       "      <td>logistic regression</td>\n",
       "      <td>0.926186</td>\n",
       "      <td>0.938719</td>\n",
       "      <td>0.943978</td>\n",
       "      <td>0.941341</td>\n",
       "    </tr>\n",
       "    <tr>\n",
       "      <th>1</th>\n",
       "      <td>support vector (radial basis)</td>\n",
       "      <td>0.717047</td>\n",
       "      <td>0.704167</td>\n",
       "      <td>0.946779</td>\n",
       "      <td>0.807646</td>\n",
       "    </tr>\n",
       "    <tr>\n",
       "      <th>2</th>\n",
       "      <td>decision tree</td>\n",
       "      <td>0.905097</td>\n",
       "      <td>0.922006</td>\n",
       "      <td>0.927171</td>\n",
       "      <td>0.924581</td>\n",
       "    </tr>\n",
       "    <tr>\n",
       "      <th>3</th>\n",
       "      <td>random forest</td>\n",
       "      <td>0.947276</td>\n",
       "      <td>0.955432</td>\n",
       "      <td>0.960784</td>\n",
       "      <td>0.958101</td>\n",
       "    </tr>\n",
       "  </tbody>\n",
       "</table>\n",
       "</div>"
      ],
      "text/plain": [
       "                      classifier  accuracy  precision    recall  f1_score\n",
       "0            logistic regression  0.926186   0.938719  0.943978  0.941341\n",
       "1  support vector (radial basis)  0.717047   0.704167  0.946779  0.807646\n",
       "2                  decision tree  0.905097   0.922006  0.927171  0.924581\n",
       "3                  random forest  0.947276   0.955432  0.960784  0.958101"
      ]
     },
     "execution_count": 44,
     "metadata": {},
     "output_type": "execute_result"
    }
   ],
   "source": [
    "pd.DataFrame([result1a, result2a, result3a, result4a], columns=['classifier', 'accuracy', 'precision', 'recall', 'f1_score'])"
   ]
  },
  {
   "cell_type": "code",
   "execution_count": null,
   "metadata": {
    "collapsed": true
   },
   "outputs": [],
   "source": []
  }
 ],
 "metadata": {
  "kernelspec": {
   "display_name": "Python 2",
   "language": "python",
   "name": "python2"
  },
  "language_info": {
   "codemirror_mode": {
    "name": "ipython",
    "version": 2
   },
   "file_extension": ".py",
   "mimetype": "text/x-python",
   "name": "python",
   "nbconvert_exporter": "python",
   "pygments_lexer": "ipython2",
   "version": "2.7.6"
  }
 },
 "nbformat": 4,
 "nbformat_minor": 0
}
